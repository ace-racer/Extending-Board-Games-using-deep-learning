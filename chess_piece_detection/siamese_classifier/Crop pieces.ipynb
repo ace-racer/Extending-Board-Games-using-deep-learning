{
 "cells": [
  {
   "cell_type": "code",
   "execution_count": 12,
   "metadata": {
    "collapsed": true
   },
   "outputs": [],
   "source": [
    "import cv2\n",
    "import matplotlib.pyplot as plt\n",
    "import numpy as np\n",
    "import os\n",
    "%matplotlib inline"
   ]
  },
  {
   "cell_type": "code",
   "execution_count": 13,
   "metadata": {
    "collapsed": true
   },
   "outputs": [],
   "source": [
    "image_location = \"H:\\\\AR-ExtendingOnlineGames\\\\my_board\\\\split_images\\\\board1\\\\d_3.jpg\""
   ]
  },
  {
   "cell_type": "code",
   "execution_count": 14,
   "metadata": {},
   "outputs": [
    {
     "data": {
      "text/plain": [
       "<matplotlib.image.AxesImage at 0x2096c662358>"
      ]
     },
     "execution_count": 14,
     "metadata": {},
     "output_type": "execute_result"
    },
    {
     "data": {
      "image/png": "[encoded data removed]",
      "text/plain": [
       "<matplotlib.figure.Figure at 0x2096c5df710>"
      ]
     },
     "metadata": {},
     "output_type": "display_data"
    }
   ],
   "source": [
    "image = cv2.imread(image_location)\n",
    "plt.imshow(image)"
   ]
  },
  {
   "cell_type": "code",
   "execution_count": 15,
   "metadata": {},
   "outputs": [
    {
     "data": {
      "text/plain": [
       "<matplotlib.image.AxesImage at 0x2096c6b9f60>"
      ]
     },
     "execution_count": 15,
     "metadata": {},
     "output_type": "execute_result"
    },
    {
     "data": {
      "image/png": "[encoded data removed]",
      "text/plain": [
       "<matplotlib.figure.Figure at 0x2096c627320>"
      ]
     },
     "metadata": {},
     "output_type": "display_data"
    }
   ],
   "source": [
    "gray_image = cv2.cvtColor(image, cv2.COLOR_BGR2GRAY)\n",
    "gray_image_blurred = cv2.blur(gray_image, (3,3))\n",
    "plt.imshow(gray_image_blurred, cmap='gray')"
   ]
  },
  {
   "cell_type": "code",
   "execution_count": 19,
   "metadata": {
    "collapsed": true
   },
   "outputs": [],
   "source": [
    "thresh = 100 # initial threshold (max -> 255)\n",
    "\n",
    "# Detect edges using Canny\n",
    "canny_output = cv2.Canny(gray_image_blurred, thresh, thresh * 2)\n",
    "\n",
    "# Find contours\n",
    "_, contours, _ = cv2.findContours(canny_output, cv2.RETR_TREE, cv2.CHAIN_APPROX_SIMPLE)"
   ]
  },
  {
   "cell_type": "code",
   "execution_count": 20,
   "metadata": {},
   "outputs": [
    {
     "name": "stdout",
     "output_type": "stream",
     "text": [
      "4\n"
     ]
    }
   ],
   "source": [
    "print(len(contours))"
   ]
  },
  {
   "cell_type": "code",
   "execution_count": null,
   "metadata": {
    "collapsed": true
   },
   "outputs": [],
   "source": [
    "# Approximate contours to polygons + get bounding rects and circles\n",
    "boundRect = [None]*len(contours)\n",
    "\n",
    "contours_poly = [None]*len(contours)\n",
    "\n",
    "for i, c in enumerate(contours):\n",
    "    contours_poly[i] = cv2.approxPolyDP(c, 3, True)\n",
    "    boundRect[i] = cv2.boundingRect(contours_poly[i])"
   ]
  },
  {
   "cell_type": "raw",
   "metadata": {},
   "source": [
    "boundRect[:5]"
   ]
  },
  {
   "cell_type": "markdown",
   "metadata": {},
   "source": [
    "## Taken from [here](https://gist.github.com/bigsnarfdude/d811e31ee17495f82f10db12651ae82d)"
   ]
  },
  {
   "cell_type": "code",
   "execution_count": 16,
   "metadata": {},
   "outputs": [],
   "source": [
    "# threshold image\n",
    "ret, threshed_img = cv2.threshold(cv2.cvtColor(image, cv2.COLOR_BGR2GRAY), 127, 255, cv2.THRESH_BINARY)\n",
    "\n",
    "# find contours and get the external one\n",
    "_, contours, hier = cv2.findContours(threshed_img, cv2.RETR_TREE,\n",
    "                cv2.CHAIN_APPROX_SIMPLE)"
   ]
  },
  {
   "cell_type": "code",
   "execution_count": 17,
   "metadata": {},
   "outputs": [
    {
     "name": "stdout",
     "output_type": "stream",
     "text": [
      "3\n"
     ]
    }
   ],
   "source": [
    "# with each contour, draw boundingRect in green\n",
    "# a minAreaRect in red and\n",
    "print(len(contours))\n",
    "for c in contours:\n",
    "    # get the bounding rect\n",
    "    x, y, w, h = cv2.boundingRect(c)\n",
    "    # draw a green rectangle to visualize the bounding rect\n",
    "    cv2.rectangle(image, (x, y), (x+w, y+h), (0, 255, 0), 2)\n",
    " \n",
    "    # get the min area rect\n",
    "    #rect = cv2.minAreaRect(c)\n",
    "    #box = cv2.boxPoints(rect)\n",
    "    # convert all coordinates floating point values to int\n",
    "    #box = np.int0(box)\n",
    "    # draw a red 'nghien' rectangle\n",
    "    #cv2.drawContours(image, [box], 0, (0, 0, 255))"
   ]
  },
  {
   "cell_type": "code",
   "execution_count": 18,
   "metadata": {},
   "outputs": [
    {
     "data": {
      "text/plain": [
       "<matplotlib.image.AxesImage at 0x2096c72b080>"
      ]
     },
     "execution_count": 18,
     "metadata": {},
     "output_type": "execute_result"
    },
    {
     "data": {
      "image/png": "[encoded data removed]",
      "text/plain": [
       "<matplotlib.figure.Figure at 0x2096c6a8e10>"
      ]
     },
     "metadata": {},
     "output_type": "display_data"
    }
   ],
   "source": [
    "plt.imshow(image)"
   ]
  },
  {
   "cell_type": "code",
   "execution_count": null,
   "metadata": {
    "collapsed": true
   },
   "outputs": [],
   "source": []
  }
 ],
 "metadata": {
  "kernelspec": {
   "display_name": "Python 3",
   "language": "python",
   "name": "python3"
  },
  "language_info": {
   "codemirror_mode": {
    "name": "ipython",
    "version": 3
   },
   "file_extension": ".py",
   "mimetype": "text/x-python",
   "name": "python",
   "nbconvert_exporter": "python",
   "pygments_lexer": "ipython3",
   "version": "3.6.3"
  }
 },
 "nbformat": 4,
 "nbformat_minor": 2
}
