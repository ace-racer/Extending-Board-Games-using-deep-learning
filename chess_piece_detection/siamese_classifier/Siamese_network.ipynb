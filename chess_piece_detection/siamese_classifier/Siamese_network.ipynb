{
 "cells": [
  {
   "cell_type": "markdown",
   "metadata": {
    "colab_type": "text",
    "id": "view-in-github"
   },
   "source": [
    "<a href=\"https://colab.research.google.com/github/ace-racer/Extending-Board-Games-using-deep-learning/blob/master/chess_piece_detection/Siamese_network.ipynb\" target=\"_parent\"><img src=\"https://colab.research.google.com/assets/colab-badge.svg\" alt=\"Open In Colab\"/></a>"
   ]
  },
  {
   "cell_type": "code",
   "execution_count": 9,
   "metadata": {
    "colab": {
     "base_uri": "https://localhost:8080/",
     "height": 374
    },
    "colab_type": "code",
    "id": "Umcq-GWbS4bX",
    "outputId": "1de523e2-90aa-4c43-b9c1-a961bb73e0ec"
   },
   "outputs": [
    {
     "name": "stdout",
     "output_type": "stream",
     "text": [
      "47485505\n",
      "__________________________________________________________________________________________________\n",
      "Layer (type)                    Output Shape         Param #     Connected to                     \n",
      "==================================================================================================\n",
      "input_3 (InputLayer)            (None, 100, 100, 3)  0                                            \n",
      "__________________________________________________________________________________________________\n",
      "input_4 (InputLayer)            (None, 100, 100, 3)  0                                            \n",
      "__________________________________________________________________________________________________\n",
      "sequential_2 (Sequential)       (None, 1024)         47484480    input_3[0][0]                    \n",
      "                                                                 input_4[0][0]                    \n",
      "__________________________________________________________________________________________________\n",
      "average_2 (Average)             (None, 1024)         0           sequential_2[1][0]               \n",
      "                                                                 sequential_2[2][0]               \n",
      "__________________________________________________________________________________________________\n",
      "dense_4 (Dense)                 (None, 1)            1025        average_2[0][0]                  \n",
      "==================================================================================================\n",
      "Total params: 47,485,505\n",
      "Trainable params: 47,485,505\n",
      "Non-trainable params: 0\n",
      "__________________________________________________________________________________________________\n",
      "None\n"
     ]
    }
   ],
   "source": [
    "\"\"\"\n",
    "Initial code from: https://sorenbouma.github.io/blog/oneshot/\n",
    "\n",
    "\"\"\"\n",
    "import keras\n",
    "from keras.layers import Input, Conv2D, Lambda, average, Dense, Flatten,MaxPooling2D, BatchNormalization, Dropout\n",
    "from keras.models import Model, Sequential\n",
    "from keras.regularizers import l2\n",
    "from keras import backend as K\n",
    "from keras.optimizers import SGD,Adam\n",
    "from keras.losses import binary_crossentropy\n",
    "import numpy.random as rng\n",
    "import numpy as np\n",
    "import os\n",
    "import matplotlib.pyplot as plt\n",
    "from sklearn.utils import shuffle\n",
    "\n",
    "def W_init(shape,name=None):\n",
    "    \"\"\"Initialize weights as in paper\"\"\"\n",
    "    values = rng.normal(loc=0,scale=1e-2,size=shape)\n",
    "    return K.variable(values,name=name)\n",
    "\n",
    "def b_init(shape,name=None):\n",
    "    \"\"\"Initialize bias as in paper\"\"\"\n",
    "    values=rng.normal(loc=0.5,scale=1e-2,size=shape)\n",
    "    return K.variable(values,name=name)\n",
    "\n",
    "input_shape = (100, 100, 3)\n",
    "left_input = Input(input_shape)\n",
    "right_input = Input(input_shape)\n",
    "\n",
    "#build convnet to use in each siamese 'leg'\n",
    "convnet = Sequential()\n",
    "\n",
    "convnet.add(Conv2D(32,(5,5),input_shape=input_shape,\n",
    "                   kernel_initializer=W_init,kernel_regularizer=l2(2e-4)))\n",
    "convnet.add(BatchNormalization())\n",
    "convnet.add(Activation('relu'))\n",
    "convnet.add(MaxPooling2D())\n",
    "\n",
    "convnet.add(Conv2D(64,(4,4), kernel_regularizer=l2(2e-4),kernel_initializer=W_init,bias_initializer=b_init))\n",
    "convnet.add(BatchNormalization())\n",
    "convnet.add(Activation('relu'))\n",
    "convnet.add(MaxPooling2D())\n",
    "\n",
    "convnet.add(Conv2D(128,(4,4), kernel_initializer=W_init,kernel_regularizer=l2(2e-4),bias_initializer=b_init))\n",
    "convnet.add(BatchNormalization())\n",
    "convnet.add(Activation('relu'))\n",
    "convnet.add(Flatten())\n",
    "convnet.add(Dropout(0.4))\n",
    "convnet.add(Dense(1024,activation=\"relu\",kernel_regularizer=l2(1e-3),kernel_initializer=W_init,bias_initializer=b_init))\n",
    "\n",
    "#encode each of the two inputs into a vector with the convnet\n",
    "encoded_l = convnet(left_input)\n",
    "encoded_r = convnet(right_input)\n",
    "\n",
    "#merge two encoded inputs with the average\n",
    "both = average([encoded_l,encoded_r])\n",
    "prediction = Dense(1,activation='sigmoid',bias_initializer=b_init)(both)\n",
    "siamese_net = Model(inputs=[left_input,right_input],outputs=prediction)\n",
    "\n",
    "\n",
    "optimizer = Adam(0.0006)\n",
    "\n",
    "siamese_net.compile(loss=\"binary_crossentropy\", optimizer=optimizer, metrics=['accuracy'])\n",
    "\n",
    "print(siamese_net.count_params())\n",
    "print(siamese_net.summary())"
   ]
  },
  {
   "cell_type": "code",
   "execution_count": 2,
   "metadata": {
    "colab": {
     "base_uri": "https://localhost:8080/",
     "height": 51
    },
    "colab_type": "code",
    "id": "NYgXCOqqW-Cs",
    "outputId": "369bdc16-1bbb-407f-cb2f-c31b6125c5d9"
   },
   "outputs": [
    {
     "name": "stdout",
     "output_type": "stream",
     "text": [
      "fatal: destination path 'Chess-Pieces-Data' already exists and is not an empty directory.\n",
      "Chess-Pieces-Data  logs  sample_data  weights\n"
     ]
    }
   ],
   "source": [
    "! git clone https://github.com/ace-racer/Chess-Pieces-Data.git\n",
    "! ls"
   ]
  },
  {
   "cell_type": "code",
   "execution_count": 0,
   "metadata": {
    "colab": {
     "base_uri": "https://localhost:8080/",
     "height": 51
    },
    "colab_type": "code",
    "id": "K2OVDeZtTTwk",
    "outputId": "92a4905c-3847-430a-fd5f-a4d2cf4bf552"
   },
   "outputs": [
    {
     "name": "stdout",
     "output_type": "stream",
     "text": [
      "(30625, 2, 100, 100, 3)\n",
      "(30625,)\n"
     ]
    }
   ],
   "source": [
    "import numpy as np\n",
    "import keras\n",
    "import os\n",
    "import itertools\n",
    "import random\n",
    "import matplotlib.pyplot as plt\n",
    "%matplotlib inline\n",
    "\n",
    "import cv2\n",
    "from sklearn.model_selection import train_test_split\n",
    "\n",
    "from keras.callbacks import EarlyStopping, ModelCheckpoint, TensorBoard\n",
    "\n",
    "# change as required\n",
    "IMAGES_LOCATION = \"Chess-Pieces-Data/crawled_1901/\"\n",
    "\n",
    "samples_per_type = {\"b\": 20, \"n\": 15, \"k\": 15, \"p\": 20, \"q\": 15, \"r\": 20}\n",
    "#samples_per_type = {\"b\": 3, \"n\": 2, \"k\": 2, \"p\": 3, \"q\": 2, \"r\": 3}\n",
    "\n",
    "# training parameters\n",
    "IMAGE_SIZE = (100, 100)\n",
    "CHECKPOINTS_LOCATION = \"weights\"\n",
    "LOGS_LOCATION = \"logs\"\n",
    "BATCH_SIZE = 32\n",
    "NUM_EPOCHS = 50\n",
    "\n",
    "if not os.path.exists(CHECKPOINTS_LOCATION):\n",
    "    os.makedirs(CHECKPOINTS_LOCATION)\n",
    "\n",
    "if not os.path.exists(LOGS_LOCATION):\n",
    "    os.makedirs(LOGS_LOCATION)\n",
    "\n",
    "X_train_original = []\n",
    "y_train_original = []\n",
    "\n",
    "\n",
    "training_images = os.path.join(IMAGES_LOCATION, \"train\")\n",
    "validation_images = os.path.join(IMAGES_LOCATION, \"test\")\n",
    "\n",
    "\n",
    "files_with_labels = []\n",
    "\n",
    "for type_name in samples_per_type:\n",
    "    piece_type_folder = os.path.join(training_images, type_name)\n",
    "    for idx, f in enumerate(os.listdir(piece_type_folder)):\n",
    "        if idx >= samples_per_type[type_name]:\n",
    "            break\n",
    "\n",
    "        img_file_loc = os.path.join(piece_type_folder, f)\n",
    "        files_with_labels.append((img_file_loc, type_name))\n",
    "\n",
    "\n",
    "random.shuffle(files_with_labels)\n",
    "# print(files_with_labels)\n",
    "\n",
    "cartesian_product = itertools.product(files_with_labels, files_with_labels)\n",
    "# print(cartesian_product)\n",
    "\n",
    "for item1, item2 in cartesian_product:\n",
    "\n",
    "    img1 = cv2.imread(item1[0])\n",
    "    img1 = cv2.resize(img1, IMAGE_SIZE, interpolation=cv2.INTER_AREA)\n",
    "\n",
    "    img2 = cv2.imread(item2[0])\n",
    "    img2 = cv2.resize(img2, IMAGE_SIZE, interpolation=cv2.INTER_AREA)\n",
    "\n",
    "    label = int(item1[1] == item2[1])\n",
    "    X_train_original.append(np.array([img1, img2]))\n",
    "    y_train_original.append(label)\n",
    "\n",
    "X_train_original = np.array(X_train_original)\n",
    "plt.imshow(X_train_original[0][0])\n",
    "plt.imshow(X_train_original[0][1])\n",
    "\n",
    "X_train_original = X_train_original.astype('float32')\n",
    "X_train_original /= 255\n",
    "\n",
    "plt.imshow(X_train_original[0][0])\n",
    "plt.imshow(X_train_original[0][1])\n",
    "\n",
    "y_train_original = np.array(y_train_original)\n",
    "\n",
    "print(X_train_original.shape)\n",
    "print(y_train_original.shape)\n",
    "\n",
    "# split into train and validation splits\n",
    "X_train, X_test, y_train, y_test = train_test_split(X_train_original, y_train_original, test_size=0.25, random_state=42, stratify = y_train_original)\n",
    "\n",
    "#X_train = np.array(X_train)\n",
    "#X_test = np.array(X_test)\n",
    "#y_train = np.array(y_train)\n",
    "#y_test = np.array(y_test)\n",
    "\n",
    "print(X_train.shape)\n",
    "print(X_test.shape)\n",
    "print(y_train.shape)\n",
    "print(y_test.shape)\n",
    "\n",
    "X_train_left = X_train[:, 0, ...]\n",
    "X_train_right = X_train[:, 1, ...]\n",
    "print(X_train_left.shape)\n",
    "print(X_train_right.shape)\n",
    "\n",
    "X_test_left = X_test[:, 0, ...]\n",
    "X_test_right = X_test[:, 1, ...]\n",
    "\n",
    "filepath = os.path.join(CHECKPOINTS_LOCATION, \"siamese.hdf5\")\n",
    "\n",
    "checkpoint = ModelCheckpoint(filepath, monitor='val_acc', verbose=1, save_best_only=True, mode='max')\n",
    "\n",
    "earlystop = EarlyStopping(monitor='val_acc', min_delta=0.001, patience=10, verbose=1, mode='max')\n",
    "\n",
    "tensorboard = TensorBoard(log_dir=LOGS_LOCATION, histogram_freq=0, write_graph=True, write_images=True)\n",
    "\n",
    "callbacks_list = [checkpoint, earlystop, tensorboard]\n",
    "\n",
    "X_train_instances = [X_train_left, X_train_right]\n",
    "# X_test_instances = [X_test_left, X_test_right]\n",
    "hist = siamese_net.fit(X_train_instances, y_train, shuffle=True, batch_size=BATCH_SIZE,epochs=NUM_EPOCHS, verbose=1, validation_split = 0.25, callbacks=callbacks_list)"
   ]
  },
  {
   "cell_type": "code",
   "execution_count": 0,
   "metadata": {
    "colab": {},
    "colab_type": "code",
    "collapsed": true,
    "id": "V8pn-JOU_9Os"
   },
   "outputs": [],
   "source": [
    "!ls"
   ]
  },
  {
   "cell_type": "code",
   "execution_count": 0,
   "metadata": {
    "colab": {},
    "colab_type": "code",
    "collapsed": true,
    "id": "ZmpyyFTrAK3c"
   },
   "outputs": [],
   "source": [
    "from google.colab import files\n",
    "\n",
    "!zip -r weights.zip weights\n",
    "!zip -r logs.zip logs\n",
    "\n"
   ]
  },
  {
   "cell_type": "code",
   "execution_count": 0,
   "metadata": {
    "colab": {},
    "colab_type": "code",
    "collapsed": true,
    "id": "X2bkUBEABGzY"
   },
   "outputs": [],
   "source": [
    "!ls"
   ]
  },
  {
   "cell_type": "code",
   "execution_count": 0,
   "metadata": {
    "colab": {},
    "colab_type": "code",
    "collapsed": true,
    "id": "Gq4i480CBJcq"
   },
   "outputs": [],
   "source": [
    "files.download(\"weights.zip\")"
   ]
  },
  {
   "cell_type": "code",
   "execution_count": 0,
   "metadata": {
    "colab": {},
    "colab_type": "code",
    "collapsed": true,
    "id": "-Qm1I2R-BZs5"
   },
   "outputs": [],
   "source": [
    "files.download(\"logs.zip\")"
   ]
  }
 ],
 "metadata": {
  "accelerator": "TPU",
  "colab": {
   "collapsed_sections": [],
   "include_colab_link": true,
   "name": "Siamese network.ipynb",
   "provenance": [],
   "version": "0.3.2"
  },
  "kernelspec": {
   "display_name": "Python 3",
   "language": "python",
   "name": "python3"
  },
  "language_info": {
   "codemirror_mode": {
    "name": "ipython",
    "version": 3
   },
   "file_extension": ".py",
   "mimetype": "text/x-python",
   "name": "python",
   "nbconvert_exporter": "python",
   "pygments_lexer": "ipython3",
   "version": "3.6.3"
  }
 },
 "nbformat": 4,
 "nbformat_minor": 1
}
