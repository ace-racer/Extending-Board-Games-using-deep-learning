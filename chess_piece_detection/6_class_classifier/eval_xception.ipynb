{
 "cells": [
  {
   "cell_type": "code",
   "execution_count": 1,
   "metadata": {},
   "outputs": [],
   "source": [
    "import cv2\n",
    "import matplotlib.pyplot as plt\n",
    "from sklearn.utils import shuffle\n",
    "import numpy as np\n",
    "import os\n",
    "import random\n",
    "from collections import Counter, defaultdict\n",
    "from itertools import product, combinations\n",
    "import math\n",
    "import cv2\n",
    "from sklearn.model_selection import train_test_split\n",
    "\n",
    "random.seed(42)\n",
    "\n",
    "%matplotlib inline"
   ]
  },
  {
   "cell_type": "code",
   "execution_count": 2,
   "metadata": {},
   "outputs": [
    {
     "name": "stderr",
     "output_type": "stream",
     "text": [
      "/home/anurag/anaconda3/lib/python3.6/site-packages/h5py/__init__.py:36: FutureWarning: Conversion of the second argument of issubdtype from `float` to `np.floating` is deprecated. In future, it will be treated as `np.float64 == np.dtype(float).type`.\n",
      "  from ._conv import register_converters as _register_converters\n",
      "Using TensorFlow backend.\n"
     ]
    }
   ],
   "source": [
    "import keras\n",
    "from keras.layers import Input, Conv2D, Lambda, average, Dense, Flatten,MaxPooling2D, BatchNormalization, Dropout, Activation, Subtract, subtract\n",
    "from keras.models import Model, Sequential\n",
    "from keras.regularizers import l2\n",
    "from keras import backend as K\n",
    "from keras.optimizers import SGD,Adam\n",
    "from keras.losses import binary_crossentropy\n",
    "from keras.callbacks import EarlyStopping, ModelCheckpoint, TensorBoard\n",
    "import numpy.random as rng"
   ]
  },
  {
   "cell_type": "code",
   "execution_count": 3,
   "metadata": {},
   "outputs": [],
   "source": [
    "IMAGE_SIZE = (80, 80)\n",
    "\n",
    "def process_image(image_location):\n",
    "    \"\"\"\n",
    "        Given the image location, process the image\n",
    "    \"\"\"\n",
    "    # print(image_location)\n",
    "    \n",
    "    image = cv2.imread(image_location)\n",
    "    \n",
    "    if image.shape[0] != IMAGE_SIZE[0] or image.shape[1] != IMAGE_SIZE[1]:\n",
    "        # print(\"Resizing the image: {0}\".format(image_location))\n",
    "        resized_image = cv2.resize(image, IMAGE_SIZE, interpolation = cv2.INTER_AREA)\n",
    "    else:\n",
    "        resized_image = image\n",
    "    \n",
    "       \n",
    "    return resized_image"
   ]
  },
  {
   "cell_type": "code",
   "execution_count": 4,
   "metadata": {},
   "outputs": [],
   "source": [
    "type_locations = {\"b\": [\"bb\", \"wb\"], \"n\": [\"bn\", \"wn\"], \"k\": [\"bk\", \"wk\"], \"p\": [\"bp\", \"wp\"], \"q\": [\"bq\", \"wq\"], \"r\": [\"br\", \"wr\"]}\n",
    "type_name_to_label = { \"p\":0, \"b\":1, \"n\":2, \"r\":3, \"q\": 4, \"k\":5 }"
   ]
  },
  {
   "cell_type": "markdown",
   "metadata": {},
   "source": [
    "## The below cell need to be replaced with the location of the new data"
   ]
  },
  {
   "cell_type": "code",
   "execution_count": 8,
   "metadata": {},
   "outputs": [],
   "source": [
    "def get_features_labels(data_path):\n",
    "    X, y = [], []\n",
    "    features_with_labels = []\n",
    "    \n",
    "    for type_name in type_locations:\n",
    "        for folder_name in type_locations[type_name]:\n",
    "            piece_type_folder = os.path.join(data_path, folder_name)\n",
    "            for f in (os.listdir(piece_type_folder)):\n",
    "                if f.endswith(\".jpg\"): \n",
    "                    \n",
    "\n",
    "                    img_file_loc = os.path.join(piece_type_folder, f)\n",
    "                    # print(img_file_loc)\n",
    "                    grayscale_image = process_image(img_file_loc)\n",
    "                    actual_image = grayscale_image\n",
    "                    label = type_name_to_label[type_name]\n",
    "                    features_with_labels.append({\"feature\": grayscale_image, \"label\": label, \"image\": actual_image})   \n",
    "                    \n",
    "    random.shuffle(features_with_labels)\n",
    "    #print(X[0][0])\n",
    "    #print(X[0][1])\n",
    "    X = [x[\"feature\"] for x in features_with_labels]\n",
    "    y = [x[\"label\"] for x in features_with_labels]\n",
    "    images = [x[\"image\"] for x in features_with_labels]\n",
    "    \n",
    "    X = np.array(X)\n",
    "    X = X.astype('float32')\n",
    "    X /= 255\n",
    "\n",
    "    return X, np.array(y), images"
   ]
  },
  {
   "cell_type": "code",
   "execution_count": 9,
   "metadata": {},
   "outputs": [
    {
     "name": "stdout",
     "output_type": "stream",
     "text": [
      "(5838, 80, 80, 3)\n",
      "(5838,)\n",
      "(291, 80, 80, 3)\n",
      "(291,)\n"
     ]
    }
   ],
   "source": [
    "X_train, y_train, _ = get_features_labels(\"/home/anurag/AR/data/23March/train\")\n",
    "X_test, y_test, test_images = get_features_labels(\"/home/anurag/AR/data/23March/test\")\n",
    "print(X_train.shape)\n",
    "print(y_train.shape)\n",
    "print(X_test.shape)\n",
    "print(y_test.shape)"
   ]
  },
  {
   "cell_type": "code",
   "execution_count": 10,
   "metadata": {},
   "outputs": [],
   "source": [
    "# batch size\n",
    "batch_size = 64\n",
    "\n",
    "\n",
    "required_input_shape = (*IMAGE_SIZE, 3)"
   ]
  },
  {
   "cell_type": "code",
   "execution_count": 13,
   "metadata": {},
   "outputs": [],
   "source": [
    "import keras\n",
    "from keras.layers import Input, Dense, Flatten,MaxPooling2D, BatchNormalization, GlobalAveragePooling2D\n",
    "from keras.models import Model, Sequential\n",
    "from keras.optimizers import SGD,Adam\n",
    "\n",
    "\n",
    "import numpy.random as rng\n",
    "from keras.applications.xception import Xception\n",
    "\n",
    "def load_6_class_classifier():\n",
    "    \n",
    "\n",
    "    base_model = Xception(include_top=False, weights='imagenet', input_shape=required_input_shape)\n",
    "    # add a global spatial average pooling layer\n",
    "\n",
    "    x = base_model.output\n",
    "\n",
    "    x = GlobalAveragePooling2D()(x)\n",
    "\n",
    "    # let's add a fully-connected layer\n",
    "    x = Dense(1024, activation='relu')(x)\n",
    "\n",
    "    # and a softmax layer\n",
    "    predictions = Dense(6, activation='softmax')(x)\n",
    "\n",
    "    # this is the model we will train\n",
    "    model = Model(inputs=base_model.input, outputs=predictions)\n",
    "\n",
    "    # load the model weights\n",
    "    model.load_weights(\"/home/anurag/AR/Extending-Board-Games-using-deep-learning/API/models/6_class_xception.hdf5\")\n",
    "                        \n",
    "    adam = Adam(lr=0.00001, beta_1=0.9, beta_2=0.999, epsilon=None, decay=0.0, amsgrad=False)\n",
    "    model.compile(loss='sparse_categorical_crossentropy', optimizer=adam, metrics=['accuracy'])\n",
    "    \n",
    "    return model"
   ]
  },
  {
   "cell_type": "code",
   "execution_count": 14,
   "metadata": {},
   "outputs": [],
   "source": [
    "trained_model = load_6_class_classifier()"
   ]
  },
  {
   "cell_type": "code",
   "execution_count": 15,
   "metadata": {},
   "outputs": [
    {
     "name": "stdout",
     "output_type": "stream",
     "text": [
      "Test score: 3.9201845319820023\n",
      "Test accuracy: 0.13402061855670103\n"
     ]
    }
   ],
   "source": [
    "# Evaluating the model on the test data\n",
    "score, accuracy = trained_model.evaluate(X_test, y_test, verbose=0)\n",
    "print('Test score:', score)\n",
    "print('Test accuracy:', accuracy)"
   ]
  },
  {
   "cell_type": "code",
   "execution_count": 16,
   "metadata": {},
   "outputs": [],
   "source": [
    "## Helper method to print a confusion matrix\n",
    "import itertools\n",
    "\n",
    "def plot_confusion_matrix(cm, classes,\n",
    "                          normalize=False,\n",
    "                          title='Confusion matrix',\n",
    "                          cmap=plt.cm.Blues):\n",
    "    \"\"\"\n",
    "    This function prints and plots the confusion matrix.\n",
    "    Normalization can be applied by setting `normalize=True`.\n",
    "    \"\"\"\n",
    "    if normalize:\n",
    "        cm = cm.astype('float') / cm.sum(axis=1)[:, np.newaxis]\n",
    "        print(\"Normalized confusion matrix\")\n",
    "    else:\n",
    "        print('Confusion matrix, without normalization')\n",
    "\n",
    "    print(cm)\n",
    "\n",
    "    plt.imshow(cm, interpolation='nearest', cmap=cmap)\n",
    "    plt.title(title)\n",
    "    plt.colorbar()\n",
    "    tick_marks = np.arange(len(classes))\n",
    "    plt.xticks(tick_marks, classes, rotation=45)\n",
    "    plt.yticks(tick_marks, classes)\n",
    "\n",
    "    fmt = '.2f' if normalize else 'd'\n",
    "    thresh = cm.max() / 2.\n",
    "    for i, j in itertools.product(range(cm.shape[0]), range(cm.shape[1])):\n",
    "        plt.text(j, i, format(cm[i, j], fmt),\n",
    "                 horizontalalignment=\"center\",\n",
    "                 color=\"white\" if cm[i, j] > thresh else \"black\")\n",
    "\n",
    "    plt.ylabel('True label')\n",
    "    plt.xlabel('Predicted label')\n",
    "    plt.tight_layout()\n",
    "    \n",
    "    \n",
    "import matplotlib\n",
    "matplotlib.rcParams['figure.figsize'] = [100, 15]\n",
    "\n",
    "IMAGES_PER_ROW = 5\n",
    "\n",
    "def plot_mispredicted_images(images, actual_values, predicted_values, mapping_func = None):\n",
    "    print(actual_values)\n",
    "    mis_predictions = actual_values ^ predicted_values\n",
    "    mis_prediction_indices = np.nonzero(mis_predictions)[0]\n",
    "    print(mis_prediction_indices)\n",
    "    \n",
    "    num_failed_images = len(mis_prediction_indices)\n",
    "    \n",
    "    if num_failed_images == 0:\n",
    "        print(\"All images predicted correctly.\")\n",
    "        return\n",
    "        \n",
    "    \n",
    "    if num_failed_images == 1:\n",
    "        print(\"{0} mispredicted as {1}\".format(actual_values[mis_prediction_indices[0]], predicted_values[mis_prediction_indices[0]]))\n",
    "        plt.imshow(images[mis_prediction_indices[0]], cmap='gray')\n",
    "        return\n",
    "    elif num_failed_images < IMAGES_PER_ROW:\n",
    "        num_images_per_row = 2\n",
    "    else:\n",
    "        num_images_per_row = IMAGES_PER_ROW\n",
    "        \n",
    "    num_rows = (num_failed_images // num_images_per_row) + int((num_failed_images % num_images_per_row) != 0)\n",
    "    if num_rows == 1:\n",
    "        num_rows = 2\n",
    "\n",
    "    print(\"Number of failed images: \" + str(num_failed_images))\n",
    "    print(\"Num rows: {0}. Num images/row: {1}\".format(num_rows, num_images_per_row))\n",
    "    #print(num_rows)\n",
    "    #print(num_images_per_row)\n",
    "\n",
    "\n",
    "    fig, axes = plt.subplots(num_rows, num_images_per_row)\n",
    "\n",
    "    current_image_idx = 0\n",
    "\n",
    "    for itr in range(num_rows):\n",
    "        #print(itr)\n",
    "        for jtr in range(num_images_per_row):\n",
    "            if current_image_idx == num_failed_images:\n",
    "                break\n",
    "            \n",
    "            print(\"{0}, {1}, {2}\".format(itr, jtr, current_image_idx))\n",
    "            axes[itr, jtr].imshow(images[mis_prediction_indices[current_image_idx]], cmap='gray')\n",
    "            if mapping_func:\n",
    "                axes[itr, jtr].set_title(\"{0} predicted as {1}\".format(mapping_func(actual_values[mis_prediction_indices[current_image_idx]]), mapping_func(predicted_values[mis_prediction_indices[current_image_idx]])))\n",
    "            else:\n",
    "                axes[itr, jtr].set_title(\"{0} predicted as {1}\".format(actual_values[mis_prediction_indices[current_image_idx]], predicted_values[mis_prediction_indices[current_image_idx]]))\n",
    "            #print(current_image_idx)\n",
    "            current_image_idx += 1"
   ]
  },
  {
   "cell_type": "markdown",
   "metadata": {},
   "source": [
    "## Check predictions using the best trained model"
   ]
  },
  {
   "cell_type": "code",
   "execution_count": 17,
   "metadata": {},
   "outputs": [
    {
     "data": {
      "text/plain": [
       "array([2, 3, 5, 3, 4, 2, 1, 5, 2, 1, 1, 1, 1, 0, 2, 1, 4, 3, 4, 0, 3, 2,\n",
       "       2, 5, 5, 3, 3, 3, 0, 3, 2, 2, 2, 0, 3, 1, 2, 5, 0, 1, 4, 4, 2, 4,\n",
       "       0, 0, 3, 3, 1, 3, 0, 5, 1, 0, 4, 2, 2, 2, 1, 1, 0, 2, 3, 1, 0, 2,\n",
       "       2, 4, 1, 3, 3, 0, 4, 5, 3, 3, 4, 3, 5, 1, 3, 4, 4, 5, 3, 2, 5, 3,\n",
       "       4, 1, 1, 0, 0, 4, 5, 1, 5, 3, 0, 2, 3, 0, 3, 0, 2, 1, 5, 3, 4, 5,\n",
       "       0, 0, 4, 0, 1, 1, 5, 3, 3, 0, 2, 5, 1, 0, 2, 1, 0, 2, 1, 2, 1, 5,\n",
       "       5, 1, 5, 0, 1, 4, 4, 1, 3, 1, 4, 2, 2, 1, 2, 0, 3, 3, 2, 0, 1, 0,\n",
       "       1, 0, 5, 0, 2, 2, 1, 3, 3, 1, 4, 3, 4, 3, 2, 2, 1, 3, 1, 5, 2, 1,\n",
       "       0, 0, 0, 3, 3, 2, 5, 2, 0, 1, 2, 4, 0, 5, 3, 2, 1, 3, 0, 2, 2, 2,\n",
       "       4, 1, 5, 3, 1, 1, 0, 2, 3, 2, 5, 3, 2, 0, 0, 1, 1, 3, 2, 2, 5, 2,\n",
       "       1, 1, 2, 1, 2, 2, 3, 3, 1, 3, 3, 4, 3, 5, 2, 4, 0, 1, 1, 4, 1, 5,\n",
       "       0, 5, 1, 3, 0, 0, 1, 2, 3, 3, 0, 3, 4, 1, 4, 0, 3, 0, 2, 4, 0, 3,\n",
       "       3, 2, 2, 2, 1, 1, 3, 2, 2, 5, 1, 3, 0, 1, 2, 3, 1, 3, 4, 0, 1, 2,\n",
       "       0, 0, 0, 2, 3])"
      ]
     },
     "execution_count": 17,
     "metadata": {},
     "output_type": "execute_result"
    }
   ],
   "source": [
    "X_test, y_test, test_images = get_features_labels(\"/home/anurag/AR/sriraj_v2/test_v2\")\n",
    "y_test"
   ]
  },
  {
   "cell_type": "code",
   "execution_count": 19,
   "metadata": {},
   "outputs": [
    {
     "name": "stdout",
     "output_type": "stream",
     "text": [
      "Confusion matrix, without normalization\n",
      "[[ 3  0  3 34  2  9]\n",
      " [13  2  4 32  4  5]\n",
      " [19  2  6 24  4  5]\n",
      " [ 5  3 12 13 11 16]\n",
      " [ 3  1  2  9 10  5]\n",
      " [ 0 13  2  7  3  5]]\n",
      "0.13402061855670103\n"
     ]
    },
    {
     "data": {
      "image/png": "[encoded data removed]",
      "text/plain": [
       "<matplotlib.figure.Figure at 0x7f8e59903748>"
      ]
     },
     "metadata": {},
     "output_type": "display_data"
    }
   ],
   "source": [
    "from sklearn.metrics import confusion_matrix, accuracy_score\n",
    "plt.rcParams[\"figure.figsize\"] = (10,10)\n",
    "class_names = [\"pawn\", \"bishop\", \"knight\", \"rook\", \"queen\", \"king\"]\n",
    "\n",
    "trained_model = load_6_class_classifier()\n",
    "\n",
    "# trained_model.load_weights(filepath)\n",
    "\n",
    "test_predictions = trained_model.predict(X_test, batch_size=batch_size)\n",
    "y_test_pred = [np.argmax(x) for x in test_predictions]\n",
    "cnf_matrix = confusion_matrix(y_test, y_test_pred)\n",
    "plot_confusion_matrix(cnf_matrix, classes=class_names, normalize=False,title='Normalized confusion matrix')\n",
    "print(accuracy_score(y_test, y_test_pred))"
   ]
  },
  {
   "cell_type": "code",
   "execution_count": 20,
   "metadata": {},
   "outputs": [],
   "source": [
    "base_location = \"/home/anurag/AR/analysis_results/29Mar\"\n",
    "def save_mispredicted_images(images, actual_values, predicted_values, mapping_func = None):\n",
    "    # print(actual_values)\n",
    "    mis_predictions = actual_values ^ predicted_values\n",
    "    mis_prediction_indices = np.nonzero(mis_predictions)[0]\n",
    "    print(mis_prediction_indices)\n",
    "    \n",
    "    num_failed_images = len(mis_prediction_indices)\n",
    "    \n",
    "    if num_failed_images == 0:\n",
    "        print(\"All images predicted correctly.\")\n",
    "        return\n",
    "        \n",
    "    \n",
    "    if num_failed_images == 1:\n",
    "        print(\"{0} mispredicted as {1}\".format(actual_values[mis_prediction_indices[0]], predicted_values[mis_prediction_indices[0]]))\n",
    "        plt.imshow(images[mis_prediction_indices[0]], cmap='gray')\n",
    "        return\n",
    "    elif num_failed_images < IMAGES_PER_ROW:\n",
    "        num_images_per_row = 2\n",
    "    else:\n",
    "        num_images_per_row = IMAGES_PER_ROW\n",
    "        \n",
    "    num_rows = (num_failed_images // num_images_per_row) + int((num_failed_images % num_images_per_row) != 0)\n",
    "    if num_rows == 1:\n",
    "        num_rows = 2\n",
    "\n",
    "    print(\"Number of failed images: \" + str(num_failed_images))\n",
    "    print(\"Num rows: {0}. Num images/row: {1}\".format(num_rows, num_images_per_row))\n",
    "    #print(num_rows)\n",
    "    #print(num_images_per_row)\n",
    "\n",
    "\n",
    "    # fig, axes = plt.subplots(num_rows, num_images_per_row)\n",
    "\n",
    "    current_image_idx = 0\n",
    "\n",
    "    for itr in range(num_rows):\n",
    "        #print(itr)\n",
    "        for jtr in range(num_images_per_row):\n",
    "            if current_image_idx == num_failed_images:\n",
    "                break\n",
    "            \n",
    "            # print(\"{0}, {1}, {2}\".format(itr, jtr, current_image_idx))\n",
    "            \n",
    "            # axes[itr, jtr].imshow(images[mis_prediction_indices[current_image_idx]], cmap='gray')\n",
    "            if mapping_func:\n",
    "                image_location = os.path.join(base_location, str(current_image_idx) + \"_\" + \"{0}_as_{1}.jpg\".format(mapping_func(actual_values[mis_prediction_indices[current_image_idx]]), mapping_func(predicted_values[mis_prediction_indices[current_image_idx]])))\n",
    "                cv2.imwrite(image_location, images[mis_prediction_indices[current_image_idx]])\n",
    "    \n",
    "            else:\n",
    "                image_location = os.path.join(base_location, str(current_image_idx) + \"_\" + \"{0}_as_{1}.jpg\".format(actual_values[mis_prediction_indices[current_image_idx]], predicted_values[mis_prediction_indices[current_image_idx]]))\n",
    "                cv2.imwrite(image_location, images[mis_prediction_indices[current_image_idx]])\n",
    "            #print(current_image_idx)\n",
    "            current_image_idx += 1    "
   ]
  },
  {
   "cell_type": "code",
   "execution_count": 21,
   "metadata": {},
   "outputs": [
    {
     "name": "stdout",
     "output_type": "stream",
     "text": [
      "{0: 'p', 1: 'b', 2: 'n', 3: 'r', 4: 'q', 5: 'k'}\n",
      "[  0   1   3   4   5   6   7   8   9  10  11  12  13  14  15  16  17  19\n",
      "  20  21  22  23  24  25  26  27  28  29  30  31  32  33  34  35  36  37\n",
      "  38  39  41  42  44  45  46  47  48  49  51  52  53  55  56  57  58  59\n",
      "  60  61  62  63  64  65  66  67  68  69  70  71  73  75  76  77  78  79\n",
      "  80  81  82  83  85  86  88  89  90  91  92  93  95  97  98  99 100 101\n",
      " 103 105 106 107 108 109 110 112 113 114 115 116 117 118 119 120 121 122\n",
      " 123 124 125 126 127 128 129 130 132 133 134 135 136 138 140 141 143 145\n",
      " 146 147 149 150 151 152 153 154 155 156 157 159 160 161 163 164 166 167\n",
      " 168 169 170 171 172 173 174 175 176 177 178 179 180 181 184 185 186 188\n",
      " 189 191 192 195 196 197 198 200 201 202 203 204 205 208 209 211 212 213\n",
      " 214 216 217 218 219 220 221 222 223 224 225 226 227 228 230 231 232 233\n",
      " 234 235 236 237 238 240 241 242 243 244 245 246 247 248 249 250 251 252\n",
      " 253 254 255 257 258 259 260 261 262 263 264 265 266 267 268 269 270 271\n",
      " 272 273 274 275 276 277 278 279 280 281 282 283 284 285 286 287 288 289]\n",
      "Number of failed images: 252\n",
      "Num rows: 51. Num images/row: 5\n"
     ]
    }
   ],
   "source": [
    "# test_images = np.squeeze(X_test)\n",
    "reverse_label_mappings = {type_name_to_label[y]: y for y in type_name_to_label}\n",
    "print(reverse_label_mappings)\n",
    "save_mispredicted_images(test_images, y_test, y_test_pred, lambda x: reverse_label_mappings[x])\n",
    "# plot_mispredicted_images(test_images, y_test, y_test_pred, lambda x: reverse_label_mappings[x])"
   ]
  },
  {
   "cell_type": "code",
   "execution_count": null,
   "metadata": {},
   "outputs": [],
   "source": []
  }
 ],
 "metadata": {
  "kernelspec": {
   "display_name": "Python 3",
   "language": "python",
   "name": "python3"
  },
  "language_info": {
   "codemirror_mode": {
    "name": "ipython",
    "version": 3
   },
   "file_extension": ".py",
   "mimetype": "text/x-python",
   "name": "python",
   "nbconvert_exporter": "python",
   "pygments_lexer": "ipython3",
   "version": "3.6.4"
  }
 },
 "nbformat": 4,
 "nbformat_minor": 2
}
