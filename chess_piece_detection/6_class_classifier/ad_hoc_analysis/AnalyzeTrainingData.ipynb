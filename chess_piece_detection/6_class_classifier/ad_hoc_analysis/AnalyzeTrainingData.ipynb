{
 "cells": [
  {
   "cell_type": "code",
   "execution_count": 7,
   "metadata": {},
   "outputs": [],
   "source": [
    "import pandas\n",
    "import os\n",
    "import seaborn\n",
    "from collections import defaultdict\n",
    "import matplotlib.pyplot as plt\n",
    "\n",
    "%matplotlib inline"
   ]
  },
  {
   "cell_type": "code",
   "execution_count": 2,
   "metadata": {},
   "outputs": [],
   "source": [
    "train_loc = \"/home/anurag/AR/Chess-Pieces-Data/my_board_images/train\"\n",
    "test_loc = \"/home/anurag/AR/Chess-Pieces-Data/my_board_images/test\""
   ]
  },
  {
   "cell_type": "code",
   "execution_count": 3,
   "metadata": {},
   "outputs": [
    {
     "data": {
      "text/plain": [
       "[]"
      ]
     },
     "execution_count": 3,
     "metadata": {},
     "output_type": "execute_result"
    }
   ],
   "source": [
    "file_counts = [{name: len(os.listdir(os.path.join(train_loc, name)))} for name in os.listdir(train_loc) if os.path.isfile(name)]\n",
    "file_counts"
   ]
  },
  {
   "cell_type": "code",
   "execution_count": 6,
   "metadata": {},
   "outputs": [
    {
     "data": {
      "text/plain": [
       "{'bb': 71,\n",
       " 'bk': 61,\n",
       " 'bn': 121,\n",
       " 'bp': 375,\n",
       " 'bq': 61,\n",
       " 'br': 126,\n",
       " 'empty': 2515,\n",
       " 'wb': 100,\n",
       " 'wk': 60,\n",
       " 'wn': 74,\n",
       " 'wp': 407,\n",
       " 'wq': 61,\n",
       " 'wr': 64}"
      ]
     },
     "execution_count": 6,
     "metadata": {},
     "output_type": "execute_result"
    }
   ],
   "source": [
    "train_file_counts = {}\n",
    "for fol in os.listdir(train_loc):\n",
    "    loc = os.path.join(train_loc, fol)\n",
    "    train_file_counts[fol] = len([x for x in os.listdir(loc) if os.path.isfile(os.path.join(loc, x))])\n",
    "\n",
    "train_file_counts"
   ]
  },
  {
   "cell_type": "code",
   "execution_count": 10,
   "metadata": {},
   "outputs": [
    {
     "data": {
      "text/plain": [
       "defaultdict(int, {'b': 171, 'k': 121, 'n': 195, 'p': 782, 'q': 122, 'r': 190})"
      ]
     },
     "execution_count": 10,
     "metadata": {},
     "output_type": "execute_result"
    }
   ],
   "source": [
    "type_locations = {\"b\": [\"bb\", \"wb\"], \"n\": [\"bn\", \"wn\"], \"k\": [\"bk\", \"wk\"], \"p\": [\"bp\", \"wp\"], \"q\": [\"bq\", \"wq\"], \"r\": [\"br\", \"wr\"]}\n",
    "type_counts = defaultdict(int)\n",
    "\n",
    "for type_ in type_locations:\n",
    "    for sub_type in type_locations[type_]:\n",
    "        type_counts[type_] += train_file_counts[sub_type]\n",
    "        \n",
    "type_counts"
   ]
  },
  {
   "cell_type": "code",
   "execution_count": 12,
   "metadata": {},
   "outputs": [
    {
     "data": {
      "text/plain": [
       "<Container object of 6 artists>"
      ]
     },
     "execution_count": 12,
     "metadata": {},
     "output_type": "execute_result"
    },
    {
     "data": {
      "image/png": "[encoded data removed]",
      "text/plain": [
       "<matplotlib.figure.Figure at 0x7fbf2e76c9e8>"
      ]
     },
     "metadata": {},
     "output_type": "display_data"
    }
   ],
   "source": [
    "plt.bar(type_counts.keys(), type_counts.values())"
   ]
  },
  {
   "cell_type": "code",
   "execution_count": null,
   "metadata": {},
   "outputs": [],
   "source": []
  },
  {
   "cell_type": "code",
   "execution_count": null,
   "metadata": {},
   "outputs": [],
   "source": []
  }
 ],
 "metadata": {
  "kernelspec": {
   "display_name": "Python 3",
   "language": "python",
   "name": "python3"
  },
  "language_info": {
   "codemirror_mode": {
    "name": "ipython",
    "version": 3
   },
   "file_extension": ".py",
   "mimetype": "text/x-python",
   "name": "python",
   "nbconvert_exporter": "python",
   "pygments_lexer": "ipython3",
   "version": "3.6.4"
  }
 },
 "nbformat": 4,
 "nbformat_minor": 2
}
