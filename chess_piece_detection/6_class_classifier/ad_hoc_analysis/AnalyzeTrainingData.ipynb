{
 "cells": [
  {
   "cell_type": "code",
   "execution_count": 1,
   "metadata": {},
   "outputs": [],
   "source": [
    "import pandas\n",
    "import os\n",
    "import seaborn\n",
    "from collections import defaultdict\n",
    "import matplotlib.pyplot as plt\n",
    "\n",
    "%matplotlib inline"
   ]
  },
  {
   "cell_type": "code",
   "execution_count": 2,
   "metadata": {},
   "outputs": [],
   "source": [
    "train_loc = \"/home/anurag/AR/data/23March/train\"\n",
    "test_loc = \"/home/anurag/AR/data/23March/test\""
   ]
  },
  {
   "cell_type": "code",
   "execution_count": 3,
   "metadata": {},
   "outputs": [
    {
     "data": {
      "text/plain": [
       "[]"
      ]
     },
     "execution_count": 3,
     "metadata": {},
     "output_type": "execute_result"
    }
   ],
   "source": [
    "file_counts = [{name: len(os.listdir(os.path.join(train_loc, name)))} for name in os.listdir(train_loc) if os.path.isfile(name)]\n",
    "file_counts"
   ]
  },
  {
   "cell_type": "code",
   "execution_count": 4,
   "metadata": {},
   "outputs": [
    {
     "data": {
      "text/plain": [
       "{'bb': 508,\n",
       " 'bk': 504,\n",
       " 'bn': 508,\n",
       " 'bp': 375,\n",
       " 'bq': 504,\n",
       " 'br': 508,\n",
       " 'empty': 2494,\n",
       " 'wb': 508,\n",
       " 'wk': 504,\n",
       " 'wn': 508,\n",
       " 'wp': 407,\n",
       " 'wq': 504,\n",
       " 'wr': 500}"
      ]
     },
     "execution_count": 4,
     "metadata": {},
     "output_type": "execute_result"
    }
   ],
   "source": [
    "train_file_counts = {}\n",
    "for fol in os.listdir(train_loc):\n",
    "    loc = os.path.join(train_loc, fol)\n",
    "    train_file_counts[fol] = len([x for x in os.listdir(loc) if os.path.isfile(os.path.join(loc, x))])\n",
    "\n",
    "train_file_counts"
   ]
  },
  {
   "cell_type": "code",
   "execution_count": 5,
   "metadata": {},
   "outputs": [
    {
     "data": {
      "text/plain": [
       "defaultdict(int,\n",
       "            {'b': 1016, 'k': 1008, 'n': 1016, 'p': 782, 'q': 1008, 'r': 1008})"
      ]
     },
     "execution_count": 5,
     "metadata": {},
     "output_type": "execute_result"
    }
   ],
   "source": [
    "type_locations = {\"b\": [\"bb\", \"wb\"], \"n\": [\"bn\", \"wn\"], \"k\": [\"bk\", \"wk\"], \"p\": [\"bp\", \"wp\"], \"q\": [\"bq\", \"wq\"], \"r\": [\"br\", \"wr\"]}\n",
    "type_counts = defaultdict(int)\n",
    "\n",
    "for type_ in type_locations:\n",
    "    for sub_type in type_locations[type_]:\n",
    "        type_counts[type_] += train_file_counts[sub_type]\n",
    "        \n",
    "type_counts"
   ]
  },
  {
   "cell_type": "code",
   "execution_count": 6,
   "metadata": {},
   "outputs": [
    {
     "data": {
      "text/plain": [
       "<Container object of 6 artists>"
      ]
     },
     "execution_count": 6,
     "metadata": {},
     "output_type": "execute_result"
    },
    {
     "data": {
      "image/png": "[encoded data removed]",
      "text/plain": [
       "<matplotlib.figure.Figure at 0x7fe57e3a9550>"
      ]
     },
     "metadata": {},
     "output_type": "display_data"
    }
   ],
   "source": [
    "plt.bar(type_counts.keys(), type_counts.values())"
   ]
  },
  {
   "cell_type": "code",
   "execution_count": 3,
   "metadata": {},
   "outputs": [],
   "source": [
    "test_file_counts = {}\n",
    "for fol in os.listdir(test_loc):\n",
    "    loc = os.path.join(test_loc, fol)\n",
    "    test_file_counts[fol] = len([x for x in os.listdir(loc) if os.path.isfile(os.path.join(loc, x))])"
   ]
  },
  {
   "cell_type": "code",
   "execution_count": 4,
   "metadata": {},
   "outputs": [
    {
     "data": {
      "text/plain": [
       "defaultdict(int, {'b': 60, 'k': 30, 'n': 60, 'p': 51, 'q': 30, 'r': 60})"
      ]
     },
     "execution_count": 4,
     "metadata": {},
     "output_type": "execute_result"
    }
   ],
   "source": [
    "type_locations = {\"b\": [\"bb\", \"wb\"], \"n\": [\"bn\", \"wn\"], \"k\": [\"bk\", \"wk\"], \"p\": [\"bp\", \"wp\"], \"q\": [\"bq\", \"wq\"], \"r\": [\"br\", \"wr\"]}\n",
    "type_counts = defaultdict(int)\n",
    "\n",
    "for type_ in type_locations:\n",
    "    for sub_type in type_locations[type_]:\n",
    "        type_counts[type_] += test_file_counts[sub_type]\n",
    "        \n",
    "type_counts"
   ]
  },
  {
   "cell_type": "code",
   "execution_count": 5,
   "metadata": {},
   "outputs": [
    {
     "data": {
      "text/plain": [
       "<Container object of 6 artists>"
      ]
     },
     "execution_count": 5,
     "metadata": {},
     "output_type": "execute_result"
    },
    {
     "data": {
      "image/png": "[encoded data removed]",
      "text/plain": [
       "<matplotlib.figure.Figure at 0x7fa2ba8b3b70>"
      ]
     },
     "metadata": {},
     "output_type": "display_data"
    }
   ],
   "source": [
    "plt.bar(type_counts.keys(), type_counts.values())"
   ]
  },
  {
   "cell_type": "code",
   "execution_count": null,
   "metadata": {},
   "outputs": [],
   "source": []
  }
 ],
 "metadata": {
  "kernelspec": {
   "display_name": "Python 3",
   "language": "python",
   "name": "python3"
  },
  "language_info": {
   "codemirror_mode": {
    "name": "ipython",
    "version": 3
   },
   "file_extension": ".py",
   "mimetype": "text/x-python",
   "name": "python",
   "nbconvert_exporter": "python",
   "pygments_lexer": "ipython3",
   "version": "3.6.4"
  }
 },
 "nbformat": 4,
 "nbformat_minor": 2
}
