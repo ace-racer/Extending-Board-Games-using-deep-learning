{
 "cells": [
  {
   "cell_type": "code",
   "execution_count": 1,
   "metadata": {},
   "outputs": [],
   "source": [
    "import cv2\n",
    "import matplotlib.pyplot as plt\n",
    "from sklearn.utils import shuffle\n",
    "import numpy as np\n",
    "import os\n",
    "import random\n",
    "from collections import Counter, defaultdict\n",
    "from itertools import product, combinations\n",
    "import math\n",
    "import cv2\n",
    "from sklearn.model_selection import train_test_split\n",
    "\n",
    "random.seed(42)\n",
    "\n",
    "%matplotlib inline"
   ]
  },
  {
   "cell_type": "code",
   "execution_count": 17,
   "metadata": {},
   "outputs": [],
   "source": [
    "import keras\n",
    "from keras.layers import Input, Conv2D, Lambda, average, Dense, Flatten,MaxPooling2D, BatchNormalization, Dropout, Activation, Subtract, subtract\n",
    "from keras.models import Model, Sequential\n",
    "from keras.regularizers import l2\n",
    "from keras import backend as K\n",
    "from keras.optimizers import SGD,Adam\n",
    "from keras.losses import binary_crossentropy\n",
    "from keras.callbacks import EarlyStopping, ModelCheckpoint, TensorBoard\n",
    "import numpy.random as rng"
   ]
  },
  {
   "cell_type": "code",
   "execution_count": 18,
   "metadata": {},
   "outputs": [],
   "source": [
    "IMAGE_SIZE = (70, 70)\n",
    "\n",
    "\n",
    "def process_image(image_location):\n",
    "    \"\"\"\n",
    "        Given the image location, process the image\n",
    "    \"\"\"\n",
    "    # print(image_location)\n",
    "    \n",
    "    image = cv2.imread(image_location)\n",
    "    \n",
    "    if image.shape[0] != IMAGE_SIZE[0] or image.shape[1] != IMAGE_SIZE[1]:\n",
    "        # print(\"Resizing the image: {0}\".format(image_location))\n",
    "        resized_image = cv2.resize(image, IMAGE_SIZE, interpolation = cv2.INTER_AREA)\n",
    "    else:\n",
    "        resized_image = image\n",
    "    \n",
    "       \n",
    "    return resized_image"
   ]
  },
  {
   "cell_type": "code",
   "execution_count": 19,
   "metadata": {},
   "outputs": [],
   "source": [
    "type_locations = {\"b\": [\"bb\", \"wb\"], \"n\": [\"bn\", \"wn\"], \"k\": [\"bk\", \"wk\"], \"p\": [\"bp\", \"wp\"], \"q\": [\"bq\", \"wq\"], \"r\": [\"br\", \"wr\"]}\n",
    "type_name_to_label = { \"p\":0, \"b\":1, \"n\":2, \"r\":3, \"q\": 4, \"k\":5 }"
   ]
  },
  {
   "cell_type": "markdown",
   "metadata": {},
   "source": [
    "## The below cell need to be replaced with the location of the new data"
   ]
  },
  {
   "cell_type": "code",
   "execution_count": 20,
   "metadata": {},
   "outputs": [],
   "source": [
    "def get_features_labels(data_path):\n",
    "    X, y = [], []\n",
    "    features_with_labels = []\n",
    "    \n",
    "    for type_name in type_locations:\n",
    "        for folder_name in type_locations[type_name]:\n",
    "            piece_type_folder = os.path.join(data_path, folder_name)\n",
    "            for f in (os.listdir(piece_type_folder)):\n",
    "                if f.endswith(\".jpg\"): \n",
    "                    \n",
    "\n",
    "                    img_file_loc = os.path.join(piece_type_folder, f)\n",
    "                    #print(img_file_loc)\n",
    "                    grayscale_image = process_image(img_file_loc)\n",
    "                    actual_image = grayscale_image\n",
    "                    label = type_name_to_label[type_name]\n",
    "                    features_with_labels.append({\"feature\": grayscale_image, \"label\": label, \"image\": actual_image})   \n",
    "                    \n",
    "    random.shuffle(features_with_labels)\n",
    "    #print(X[0][0])\n",
    "    #print(X[0][1])\n",
    "    X = [x[\"feature\"] for x in features_with_labels]\n",
    "    y = [x[\"label\"] for x in features_with_labels]\n",
    "    images = [x[\"image\"] for x in features_with_labels]\n",
    "    \n",
    "    X = np.array(X)\n",
    "    X = X.astype('float32')\n",
    "    X /= 255\n",
    "\n",
    "    return X, np.array(y), images"
   ]
  },
  {
   "cell_type": "code",
   "execution_count": 21,
   "metadata": {},
   "outputs": [
    {
     "name": "stdout",
     "output_type": "stream",
     "text": [
      "(5838, 70, 70, 3)\n",
      "(5838,)\n",
      "(291, 70, 70, 3)\n",
      "(291,)\n"
     ]
    }
   ],
   "source": [
    "X_train, y_train, _ = get_features_labels(\"/home/anurag/AR/data/23March/train\")\n",
    "X_test, y_test, test_images = get_features_labels(\"/home/anurag/AR/data/23March/test\")\n",
    "print(X_train.shape)\n",
    "print(y_train.shape)\n",
    "print(X_test.shape)\n",
    "print(y_test.shape)"
   ]
  },
  {
   "cell_type": "code",
   "execution_count": 22,
   "metadata": {},
   "outputs": [],
   "source": [
    "# batch size\n",
    "batch_size = 64\n",
    "\n",
    "\n",
    "# number of training epochs\n",
    "epochs = 150\n",
    "\n",
    "required_input_shape = (*IMAGE_SIZE, 3)"
   ]
  },
  {
   "cell_type": "code",
   "execution_count": 23,
   "metadata": {},
   "outputs": [],
   "source": [
    "def load_6_class_cnn_model(model_weights_location):\n",
    "    \"\"\"\"\"\"\n",
    "    model = Sequential()\n",
    "    model.add(Conv2D(32, (3, 3), padding='valid', input_shape=required_input_shape))\n",
    "    model.add(BatchNormalization())\n",
    "    model.add(Activation('relu'))\n",
    "    model.add(MaxPooling2D(pool_size=(2, 2)))\n",
    "    \n",
    "    model.add(Conv2D(64, (3, 3)))\n",
    "    model.add(BatchNormalization())\n",
    "    model.add(Activation('relu'))\n",
    "    model.add(MaxPooling2D(pool_size=(2, 2)))\n",
    "    \n",
    "    model.add(Conv2D(128, (3, 3)))\n",
    "    model.add(BatchNormalization())\n",
    "    model.add(Activation('relu'))\n",
    "    model.add(MaxPooling2D(pool_size=(2, 2)))\n",
    "    \n",
    "    model.add(Dropout(0.5))\n",
    "\n",
    "    model.add(Flatten())\n",
    "    \n",
    "    model.add(Dense(2048))\n",
    "    model.add(BatchNormalization())\n",
    "    model.add(Activation('relu'))\n",
    "    model.add(Dropout(0.5))\n",
    "\n",
    "    \n",
    "    model.add(Dense(256))\n",
    "    model.add(BatchNormalization())\n",
    "    model.add(Activation('relu'))\n",
    "    model.add(Dropout(0.6))\n",
    "    \n",
    "    model.add(Dense(6))\n",
    "    model.add(Activation('softmax'))\n",
    "    model.summary()\n",
    "    \n",
    "\n",
    "    # load the model weights\n",
    "    model.load_weights(model_weights_location)\n",
    "                           \n",
    "    adam = Adam(lr=0.00001, beta_1=0.9, beta_2=0.999, epsilon=None, decay=0.0, amsgrad=False)\n",
    "    model.compile(loss='sparse_categorical_crossentropy', optimizer=adam, metrics=['accuracy'])\n",
    "    \n",
    "    return model"
   ]
  },
  {
   "cell_type": "code",
   "execution_count": 24,
   "metadata": {},
   "outputs": [
    {
     "name": "stdout",
     "output_type": "stream",
     "text": [
      "_________________________________________________________________\n",
      "Layer (type)                 Output Shape              Param #   \n",
      "=================================================================\n",
      "conv2d_4 (Conv2D)            (None, 68, 68, 32)        896       \n",
      "_________________________________________________________________\n",
      "batch_normalization_6 (Batch (None, 68, 68, 32)        128       \n",
      "_________________________________________________________________\n",
      "activation_7 (Activation)    (None, 68, 68, 32)        0         \n",
      "_________________________________________________________________\n",
      "max_pooling2d_4 (MaxPooling2 (None, 34, 34, 32)        0         \n",
      "_________________________________________________________________\n",
      "conv2d_5 (Conv2D)            (None, 32, 32, 64)        18496     \n",
      "_________________________________________________________________\n",
      "batch_normalization_7 (Batch (None, 32, 32, 64)        256       \n",
      "_________________________________________________________________\n",
      "activation_8 (Activation)    (None, 32, 32, 64)        0         \n",
      "_________________________________________________________________\n",
      "max_pooling2d_5 (MaxPooling2 (None, 16, 16, 64)        0         \n",
      "_________________________________________________________________\n",
      "conv2d_6 (Conv2D)            (None, 14, 14, 128)       73856     \n",
      "_________________________________________________________________\n",
      "batch_normalization_8 (Batch (None, 14, 14, 128)       512       \n",
      "_________________________________________________________________\n",
      "activation_9 (Activation)    (None, 14, 14, 128)       0         \n",
      "_________________________________________________________________\n",
      "max_pooling2d_6 (MaxPooling2 (None, 7, 7, 128)         0         \n",
      "_________________________________________________________________\n",
      "dropout_4 (Dropout)          (None, 7, 7, 128)         0         \n",
      "_________________________________________________________________\n",
      "flatten_2 (Flatten)          (None, 6272)              0         \n",
      "_________________________________________________________________\n",
      "dense_4 (Dense)              (None, 2048)              12847104  \n",
      "_________________________________________________________________\n",
      "batch_normalization_9 (Batch (None, 2048)              8192      \n",
      "_________________________________________________________________\n",
      "activation_10 (Activation)   (None, 2048)              0         \n",
      "_________________________________________________________________\n",
      "dropout_5 (Dropout)          (None, 2048)              0         \n",
      "_________________________________________________________________\n",
      "dense_5 (Dense)              (None, 256)               524544    \n",
      "_________________________________________________________________\n",
      "batch_normalization_10 (Batc (None, 256)               1024      \n",
      "_________________________________________________________________\n",
      "activation_11 (Activation)   (None, 256)               0         \n",
      "_________________________________________________________________\n",
      "dropout_6 (Dropout)          (None, 256)               0         \n",
      "_________________________________________________________________\n",
      "dense_6 (Dense)              (None, 6)                 1542      \n",
      "_________________________________________________________________\n",
      "activation_12 (Activation)   (None, 6)                 0         \n",
      "=================================================================\n",
      "Total params: 13,476,550\n",
      "Trainable params: 13,471,494\n",
      "Non-trainable params: 5,056\n",
      "_________________________________________________________________\n"
     ]
    }
   ],
   "source": [
    "trained_model = load_6_class_cnn_model(\"/home/anurag/AR/trained_models/26Mar/6_class_color_cnn.hdf5\")"
   ]
  },
  {
   "cell_type": "code",
   "execution_count": 25,
   "metadata": {},
   "outputs": [
    {
     "name": "stdout",
     "output_type": "stream",
     "text": [
      "Test score: 3.6834204516459987\n",
      "Test accuracy: 0.30240549838420044\n"
     ]
    }
   ],
   "source": [
    "# Evaluating the model on the test data\n",
    "score, accuracy = trained_model.evaluate(X_test, y_test, verbose=0)\n",
    "print('Test score:', score)\n",
    "print('Test accuracy:', accuracy)"
   ]
  },
  {
   "cell_type": "code",
   "execution_count": 26,
   "metadata": {},
   "outputs": [],
   "source": [
    "## Helper method to print a confusion matrix\n",
    "import itertools\n",
    "\n",
    "def plot_confusion_matrix(cm, classes,\n",
    "                          normalize=False,\n",
    "                          title='Confusion matrix',\n",
    "                          cmap=plt.cm.Blues):\n",
    "    \"\"\"\n",
    "    This function prints and plots the confusion matrix.\n",
    "    Normalization can be applied by setting `normalize=True`.\n",
    "    \"\"\"\n",
    "    if normalize:\n",
    "        cm = cm.astype('float') / cm.sum(axis=1)[:, np.newaxis]\n",
    "        print(\"Normalized confusion matrix\")\n",
    "    else:\n",
    "        print('Confusion matrix, without normalization')\n",
    "\n",
    "    print(cm)\n",
    "\n",
    "    plt.imshow(cm, interpolation='nearest', cmap=cmap)\n",
    "    plt.title(title)\n",
    "    plt.colorbar()\n",
    "    tick_marks = np.arange(len(classes))\n",
    "    plt.xticks(tick_marks, classes, rotation=45)\n",
    "    plt.yticks(tick_marks, classes)\n",
    "\n",
    "    fmt = '.2f' if normalize else 'd'\n",
    "    thresh = cm.max() / 2.\n",
    "    for i, j in itertools.product(range(cm.shape[0]), range(cm.shape[1])):\n",
    "        plt.text(j, i, format(cm[i, j], fmt),\n",
    "                 horizontalalignment=\"center\",\n",
    "                 color=\"white\" if cm[i, j] > thresh else \"black\")\n",
    "\n",
    "    plt.ylabel('True label')\n",
    "    plt.xlabel('Predicted label')\n",
    "    plt.tight_layout()\n",
    "    \n",
    "    \n",
    "import matplotlib\n",
    "matplotlib.rcParams['figure.figsize'] = [100, 15]\n",
    "\n",
    "IMAGES_PER_ROW = 5\n",
    "\n",
    "def plot_mispredicted_images(images, actual_values, predicted_values, mapping_func = None):\n",
    "    print(actual_values)\n",
    "    mis_predictions = actual_values ^ predicted_values\n",
    "    mis_prediction_indices = np.nonzero(mis_predictions)[0]\n",
    "    print(mis_prediction_indices)\n",
    "    \n",
    "    num_failed_images = len(mis_prediction_indices)\n",
    "    \n",
    "    if num_failed_images == 0:\n",
    "        print(\"All images predicted correctly.\")\n",
    "        return\n",
    "        \n",
    "    \n",
    "    if num_failed_images == 1:\n",
    "        print(\"{0} mispredicted as {1}\".format(actual_values[mis_prediction_indices[0]], predicted_values[mis_prediction_indices[0]]))\n",
    "        plt.imshow(images[mis_prediction_indices[0]], cmap='gray')\n",
    "        return\n",
    "    elif num_failed_images < IMAGES_PER_ROW:\n",
    "        num_images_per_row = 2\n",
    "    else:\n",
    "        num_images_per_row = IMAGES_PER_ROW\n",
    "        \n",
    "    num_rows = (num_failed_images // num_images_per_row) + int((num_failed_images % num_images_per_row) != 0)\n",
    "    if num_rows == 1:\n",
    "        num_rows = 2\n",
    "\n",
    "    print(\"Number of failed images: \" + str(num_failed_images))\n",
    "    print(\"Num rows: {0}. Num images/row: {1}\".format(num_rows, num_images_per_row))\n",
    "    #print(num_rows)\n",
    "    #print(num_images_per_row)\n",
    "\n",
    "\n",
    "    fig, axes = plt.subplots(num_rows, num_images_per_row)\n",
    "\n",
    "    current_image_idx = 0\n",
    "\n",
    "    for itr in range(num_rows):\n",
    "        #print(itr)\n",
    "        for jtr in range(num_images_per_row):\n",
    "            if current_image_idx == num_failed_images:\n",
    "                break\n",
    "            \n",
    "            print(\"{0}, {1}, {2}\".format(itr, jtr, current_image_idx))\n",
    "            axes[itr, jtr].imshow(images[mis_prediction_indices[current_image_idx]], cmap='gray')\n",
    "            if mapping_func:\n",
    "                axes[itr, jtr].set_title(\"{0} predicted as {1}\".format(mapping_func(actual_values[mis_prediction_indices[current_image_idx]]), mapping_func(predicted_values[mis_prediction_indices[current_image_idx]])))\n",
    "            else:\n",
    "                axes[itr, jtr].set_title(\"{0} predicted as {1}\".format(actual_values[mis_prediction_indices[current_image_idx]], predicted_values[mis_prediction_indices[current_image_idx]]))\n",
    "            #print(current_image_idx)\n",
    "            current_image_idx += 1"
   ]
  },
  {
   "cell_type": "markdown",
   "metadata": {},
   "source": [
    "## Check predictions using the best trained model"
   ]
  },
  {
   "cell_type": "code",
   "execution_count": 27,
   "metadata": {},
   "outputs": [
    {
     "name": "stdout",
     "output_type": "stream",
     "text": [
      "Test score: 3.6834204516459987\n",
      "Test accuracy: 0.30240549838420044\n"
     ]
    }
   ],
   "source": [
    "# Evaluating the model on the test data\n",
    "score, accuracy = trained_model.evaluate(X_test, y_test, verbose=0)\n",
    "print('Test score:', score)\n",
    "print('Test accuracy:', accuracy)"
   ]
  },
  {
   "cell_type": "code",
   "execution_count": 28,
   "metadata": {},
   "outputs": [
    {
     "name": "stdout",
     "output_type": "stream",
     "text": [
      "Confusion matrix, without normalization\n",
      "[[31  6  6  2  5  1]\n",
      " [26  8  7  9  8  2]\n",
      " [27  5  7 10 11  0]\n",
      " [17  3  2 21 17  0]\n",
      " [10  1  2  2 14  1]\n",
      " [ 5  7  0  5  6  7]]\n",
      "0.3024054982817869\n"
     ]
    },
    {
     "data": {
      "image/png": "[encoded data removed]",
      "text/plain": [
       "<matplotlib.figure.Figure at 0x7fc9a5f01f28>"
      ]
     },
     "metadata": {},
     "output_type": "display_data"
    }
   ],
   "source": [
    "from sklearn.metrics import confusion_matrix, accuracy_score\n",
    "plt.rcParams[\"figure.figsize\"] = (10,10)\n",
    "class_names = [\"pawn\", \"bishop\", \"knight\", \"rook\", \"queen\", \"king\"]\n",
    "\n",
    "#trained_model_path = \"/home/anurag/AR/trained_models/23Mar/6_class_cnn_fine_tuned.hdf5\"\n",
    "#trained_model = load_6_class_cnn_model(trained_model_path)\n",
    "\n",
    "# trained_model.load_weights(filepath)\n",
    "\n",
    "test_predictions = trained_model.predict(X_test, batch_size=batch_size)\n",
    "y_test_pred = [np.argmax(x) for x in test_predictions]\n",
    "cnf_matrix = confusion_matrix(y_test, y_test_pred)\n",
    "plot_confusion_matrix(cnf_matrix, classes=class_names, normalize=False,title='Normalized confusion matrix')\n",
    "print(accuracy_score(y_test, y_test_pred))"
   ]
  },
  {
   "cell_type": "code",
   "execution_count": 29,
   "metadata": {},
   "outputs": [],
   "source": [
    "base_location = \"/home/anurag/AR/analysis_results/30Mar\"\n",
    "def save_mispredicted_images(images, actual_values, predicted_values, mapping_func = None):\n",
    "    # print(actual_values)\n",
    "    mis_predictions = actual_values ^ predicted_values\n",
    "    mis_prediction_indices = np.nonzero(mis_predictions)[0]\n",
    "    print(mis_prediction_indices)\n",
    "    \n",
    "    num_failed_images = len(mis_prediction_indices)\n",
    "    \n",
    "    if num_failed_images == 0:\n",
    "        print(\"All images predicted correctly.\")\n",
    "        return\n",
    "        \n",
    "    \n",
    "    if num_failed_images == 1:\n",
    "        print(\"{0} mispredicted as {1}\".format(actual_values[mis_prediction_indices[0]], predicted_values[mis_prediction_indices[0]]))\n",
    "        plt.imshow(images[mis_prediction_indices[0]], cmap='gray')\n",
    "        return\n",
    "    elif num_failed_images < IMAGES_PER_ROW:\n",
    "        num_images_per_row = 2\n",
    "    else:\n",
    "        num_images_per_row = IMAGES_PER_ROW\n",
    "        \n",
    "    num_rows = (num_failed_images // num_images_per_row) + int((num_failed_images % num_images_per_row) != 0)\n",
    "    if num_rows == 1:\n",
    "        num_rows = 2\n",
    "\n",
    "    print(\"Number of failed images: \" + str(num_failed_images))\n",
    "    print(\"Num rows: {0}. Num images/row: {1}\".format(num_rows, num_images_per_row))\n",
    "    #print(num_rows)\n",
    "    #print(num_images_per_row)\n",
    "\n",
    "\n",
    "    # fig, axes = plt.subplots(num_rows, num_images_per_row)\n",
    "\n",
    "    current_image_idx = 0\n",
    "\n",
    "    for itr in range(num_rows):\n",
    "        #print(itr)\n",
    "        for jtr in range(num_images_per_row):\n",
    "            if current_image_idx == num_failed_images:\n",
    "                break\n",
    "            \n",
    "            # print(\"{0}, {1}, {2}\".format(itr, jtr, current_image_idx))\n",
    "            \n",
    "            # axes[itr, jtr].imshow(images[mis_prediction_indices[current_image_idx]], cmap='gray')\n",
    "            if mapping_func:\n",
    "                image_location = os.path.join(base_location, str(current_image_idx) + \"_\" + \"{0}_as_{1}.jpg\".format(mapping_func(actual_values[mis_prediction_indices[current_image_idx]]), mapping_func(predicted_values[mis_prediction_indices[current_image_idx]])))\n",
    "                cv2.imwrite(image_location, images[mis_prediction_indices[current_image_idx]])\n",
    "    \n",
    "            else:\n",
    "                image_location = os.path.join(base_location, str(current_image_idx) + \"_\" + \"{0}_as_{1}.jpg\".format(actual_values[mis_prediction_indices[current_image_idx]], predicted_values[mis_prediction_indices[current_image_idx]]))\n",
    "                cv2.imwrite(image_location, images[mis_prediction_indices[current_image_idx]])\n",
    "            #print(current_image_idx)\n",
    "            current_image_idx += 1    "
   ]
  },
  {
   "cell_type": "code",
   "execution_count": 30,
   "metadata": {},
   "outputs": [
    {
     "name": "stdout",
     "output_type": "stream",
     "text": [
      "{0: 'p', 1: 'b', 2: 'n', 3: 'r', 4: 'q', 5: 'k'}\n",
      "[  1   3   6   7   8  11  12  13  14  15  16  18  19  20  21  22  24  25\n",
      "  27  28  30  31  32  33  34  35  36  37  38  39  40  42  43  45  46  47\n",
      "  48  49  50  52  54  57  60  63  64  65  66  71  72  73  74  77  79  80\n",
      "  82  85  86  87  88  89  91  92  93  94  95  97  98  99 100 101 103 104\n",
      " 105 106 107 108 112 113 115 116 117 118 119 121 123 124 125 127 128 129\n",
      " 130 131 132 133 134 135 136 138 141 143 144 146 147 148 149 150 151 152\n",
      " 154 155 156 158 159 160 162 165 167 168 169 170 171 174 175 176 177 178\n",
      " 180 182 183 184 185 186 187 188 189 190 192 193 194 195 197 200 201 202\n",
      " 204 205 206 208 209 212 213 214 215 216 218 219 220 222 223 224 227 229\n",
      " 230 231 232 234 235 239 240 241 242 244 245 246 247 249 251 252 253 255\n",
      " 256 257 259 260 262 263 264 266 270 273 274 275 276 279 280 281 282 283\n",
      " 284 285 286 289 290]\n",
      "Number of failed images: 203\n",
      "Num rows: 41. Num images/row: 5\n"
     ]
    }
   ],
   "source": [
    "# test_images = np.squeeze(X_test)\n",
    "reverse_label_mappings = {type_name_to_label[y]: y for y in type_name_to_label}\n",
    "print(reverse_label_mappings)\n",
    "save_mispredicted_images(test_images, y_test, y_test_pred, lambda x: reverse_label_mappings[x])\n",
    "# plot_mispredicted_images(test_images, y_test, y_test_pred, lambda x: reverse_label_mappings[x])"
   ]
  },
  {
   "cell_type": "code",
   "execution_count": null,
   "metadata": {},
   "outputs": [],
   "source": []
  }
 ],
 "metadata": {
  "kernelspec": {
   "display_name": "Python 3",
   "language": "python",
   "name": "python3"
  },
  "language_info": {
   "codemirror_mode": {
    "name": "ipython",
    "version": 3
   },
   "file_extension": ".py",
   "mimetype": "text/x-python",
   "name": "python",
   "nbconvert_exporter": "python",
   "pygments_lexer": "ipython3",
   "version": "3.6.4"
  }
 },
 "nbformat": 4,
 "nbformat_minor": 2
}
