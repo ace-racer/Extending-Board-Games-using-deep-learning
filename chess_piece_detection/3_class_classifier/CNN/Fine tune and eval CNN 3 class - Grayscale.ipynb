{
 "cells": [
  {
   "cell_type": "code",
   "execution_count": 1,
   "metadata": {},
   "outputs": [],
   "source": [
    "import cv2\n",
    "import matplotlib.pyplot as plt\n",
    "from sklearn.utils import shuffle\n",
    "import numpy as np\n",
    "import os\n",
    "import random\n",
    "from collections import Counter, defaultdict\n",
    "from itertools import product, combinations\n",
    "import math\n",
    "import cv2\n",
    "from sklearn.model_selection import train_test_split\n",
    "\n",
    "random.seed(42)\n",
    "\n",
    "%matplotlib inline"
   ]
  },
  {
   "cell_type": "code",
   "execution_count": 2,
   "metadata": {},
   "outputs": [
    {
     "name": "stderr",
     "output_type": "stream",
     "text": [
      "Using TensorFlow backend.\n"
     ]
    }
   ],
   "source": [
    "import keras\n",
    "from keras.layers import Input, Conv2D, Lambda, average, Dense, Flatten,MaxPooling2D, BatchNormalization, Dropout, Activation, Subtract, subtract\n",
    "from keras.models import Model, Sequential\n",
    "from keras.regularizers import l2\n",
    "from keras import backend as K\n",
    "from keras.optimizers import SGD,Adam\n",
    "from keras.losses import binary_crossentropy\n",
    "from keras.callbacks import EarlyStopping, ModelCheckpoint, TensorBoard\n",
    "import numpy.random as rng"
   ]
  },
  {
   "cell_type": "code",
   "execution_count": 3,
   "metadata": {},
   "outputs": [],
   "source": [
    "IMAGE_SIZE = (70, 70)\n",
    "\n",
    "def auto_canny(image, sigma=0.33):\n",
    "\t# compute the median of the single channel pixel intensities\n",
    "\tv = np.median(image)\n",
    " \n",
    "\t# apply automatic Canny edge detection using the computed median\n",
    "\tlower = int(max(0, (1.0 - sigma) * v))\n",
    "\tupper = int(min(255, (1.0 + sigma) * v))\n",
    "\tedged = cv2.Canny(image, lower, upper)\n",
    " \n",
    "\t# return the edged image\n",
    "\treturn edged\n",
    "\n",
    "def process_image(image_location):\n",
    "    \"\"\"\n",
    "        Given the image location, process the image\n",
    "    \"\"\"\n",
    "    # print(image_location)\n",
    "    \n",
    "    image = cv2.imread(image_location)\n",
    "    \n",
    "    if image.shape[0] != IMAGE_SIZE[0] or image.shape[1] != IMAGE_SIZE[1]:\n",
    "        # print(\"Resizing the image: {0}\".format(image_location))\n",
    "        resized_image = cv2.resize(image, IMAGE_SIZE, interpolation = cv2.INTER_AREA)\n",
    "    else:\n",
    "        resized_image = image\n",
    "    \n",
    "    gray = cv2.cvtColor(resized_image, cv2.COLOR_BGR2GRAY)\n",
    "    \n",
    "    # get the edges from the image\n",
    "    edges = auto_canny(gray)\n",
    "    #print(edges.shape)\n",
    "    \n",
    "    \n",
    "    # assert(denoised != edges)\n",
    "    # add the two images in a weighted manner\n",
    "    weighted_sum = cv2.addWeighted(gray, 0.8, edges, 0.2, 0)\n",
    "       \n",
    "    return weighted_sum"
   ]
  },
  {
   "cell_type": "code",
   "execution_count": 4,
   "metadata": {},
   "outputs": [],
   "source": [
    "type_locations = {\"b\": [\"bb\", \"wb\"], \"n\": [\"bn\", \"wn\"], \"k\": [\"bk\", \"wk\"], \"p\": [\"bp\", \"wp\"], \"q\": [\"bq\", \"wq\"], \"r\": [\"br\", \"wr\"]}\n",
    "type_name_to_label = { \"p\":0, \"b\":1, \"n\":2, \"r\":3, \"q\": 4, \"k\":5 }"
   ]
  },
  {
   "cell_type": "markdown",
   "metadata": {},
   "source": [
    "## The below cell need to be replaced with the location of the new data"
   ]
  },
  {
   "cell_type": "code",
   "execution_count": 5,
   "metadata": {},
   "outputs": [],
   "source": [
    "def get_features_labels(data_path):\n",
    "    X, y = [], []\n",
    "    features_with_labels = []\n",
    "    images = []\n",
    "    for fol in os.listdir(data_path):\n",
    "        fol_path = os.path.join(data_path, fol)\n",
    "        if os.path.isdir(fol_path):\n",
    "            for file in os.listdir(fol_path):\n",
    "                if \".jpg\" in file:\n",
    "                    label = -1\n",
    "\n",
    "                    if fol[0] == \"b\":\n",
    "                        label = 0\n",
    "                    elif fol[0] == \"w\":\n",
    "                        label = 1\n",
    "                    elif fol == \"empty\":\n",
    "                        label = 2\n",
    "\n",
    "                    if label != -1:\n",
    "                        complete_file_loc = os.path.join(fol_path, file)\n",
    "                        grayscale_image = process_image(complete_file_loc)\n",
    "                        images.append(grayscale_image)\n",
    "                        grayscale_image = grayscale_image[..., np.newaxis]\n",
    "                        features_with_labels.append({\"feature\": grayscale_image, \"label\": label})\n",
    "            \n",
    "                    \n",
    "    random.shuffle(features_with_labels)\n",
    "    #print(X[0][0])\n",
    "    #print(X[0][1])\n",
    "    X = [x[\"feature\"] for x in features_with_labels]\n",
    "    y = [x[\"label\"] for x in features_with_labels]\n",
    "    \n",
    "    X = np.array(X)\n",
    "    X = X.astype('float32')\n",
    "    X /= 255\n",
    "\n",
    "    return np.array(X), np.array(y), images"
   ]
  },
  {
   "cell_type": "code",
   "execution_count": 6,
   "metadata": {},
   "outputs": [
    {
     "name": "stdout",
     "output_type": "stream",
     "text": [
      "(6486, 70, 70, 1)\n",
      "(6486,)\n",
      "(81, 70, 70, 1)\n",
      "(81,)\n",
      "81\n"
     ]
    }
   ],
   "source": [
    "X_train, y_train, _ = get_features_labels(\"C:\\\\Users\\\\issuser\\\\Desktop\\\\ExtendingBoardGamesOnline\\\\data\\\\sriraj_v2\\\\train\")\n",
    "X_test, y_test, test_images = get_features_labels(\"C:\\\\Users\\\\issuser\\\\Desktop\\\\ExtendingBoardGamesOnline\\\\data\\\\sriraj_v2\\\\test\")\n",
    "print(X_train.shape)\n",
    "print(y_train.shape)\n",
    "print(X_test.shape)\n",
    "print(y_test.shape)\n",
    "print(len(test_images))"
   ]
  },
  {
   "cell_type": "code",
   "execution_count": 7,
   "metadata": {},
   "outputs": [
    {
     "data": {
      "text/plain": [
       "array([0, 1, 2])"
      ]
     },
     "execution_count": 7,
     "metadata": {},
     "output_type": "execute_result"
    }
   ],
   "source": [
    "np.unique(y_test)"
   ]
  },
  {
   "cell_type": "code",
   "execution_count": 8,
   "metadata": {},
   "outputs": [],
   "source": [
    "# batch size\n",
    "batch_size = 64\n",
    "\n",
    "\n",
    "# number of training epochs\n",
    "epochs = 150\n",
    "\n",
    "required_input_shape = (*IMAGE_SIZE, 1)"
   ]
  },
  {
   "cell_type": "code",
   "execution_count": 9,
   "metadata": {},
   "outputs": [],
   "source": [
    "model_folder_name = \"fine_tune/models\"\n",
    "tensorboard_logs_folder_location = \"fine_tune/logs\""
   ]
  },
  {
   "cell_type": "code",
   "execution_count": 10,
   "metadata": {},
   "outputs": [],
   "source": [
    "from keras import optimizers\n",
    "\n",
    "def load_3_class_cnn_model(trained_3_class_classifier_location):\n",
    "    \"\"\"\n",
    "        Load the 3 class CNN model\n",
    "    \"\"\"\n",
    "    model = Sequential()\n",
    "    model.add(Conv2D(32, (3, 3), padding='valid', input_shape=required_input_shape))\n",
    "    model.add(BatchNormalization())\n",
    "    model.add(Activation('relu'))\n",
    "    model.add(MaxPooling2D(pool_size=(2, 2)))\n",
    "    \n",
    "    model.add(Conv2D(64, (3, 3)))\n",
    "    model.add(BatchNormalization())\n",
    "    model.add(Activation('relu'))\n",
    "    model.add(MaxPooling2D(pool_size=(2, 2)))\n",
    "\t\n",
    "    model.add(Conv2D(128, (3, 3)))\n",
    "    model.add(BatchNormalization())\n",
    "    model.add(Activation('relu'))\n",
    "    model.add(MaxPooling2D(pool_size=(2, 2)))\n",
    "    \n",
    "    model.add(Dropout(0.5))\n",
    "\n",
    "    model.add(Flatten())\n",
    "    model.add(Dense(256))\n",
    "    model.add(BatchNormalization())\n",
    "    model.add(Activation('relu'))\n",
    "    model.add(Dropout(0.6))\n",
    "    \n",
    "    model.add(Dense(3))\n",
    "    model.add(Activation('softmax'))\n",
    "    model.summary()\n",
    "\n",
    "    \n",
    "    # load the model weights\n",
    "    model.load_weights(trained_3_class_classifier_location)\n",
    "                           \n",
    "    adam = optimizers.Adam(lr=0.00001, beta_1=0.9, beta_2=0.999, epsilon=None, decay=0.0, amsgrad=False)\n",
    "    model.compile(loss='sparse_categorical_crossentropy', optimizer=adam, metrics=['accuracy'])\n",
    "    \n",
    "    return model"
   ]
  },
  {
   "cell_type": "code",
   "execution_count": 11,
   "metadata": {},
   "outputs": [
    {
     "name": "stdout",
     "output_type": "stream",
     "text": [
      "_________________________________________________________________\n",
      "Layer (type)                 Output Shape              Param #   \n",
      "=================================================================\n",
      "conv2d_1 (Conv2D)            (None, 68, 68, 32)        320       \n",
      "_________________________________________________________________\n",
      "batch_normalization_1 (Batch (None, 68, 68, 32)        128       \n",
      "_________________________________________________________________\n",
      "activation_1 (Activation)    (None, 68, 68, 32)        0         \n",
      "_________________________________________________________________\n",
      "max_pooling2d_1 (MaxPooling2 (None, 34, 34, 32)        0         \n",
      "_________________________________________________________________\n",
      "conv2d_2 (Conv2D)            (None, 32, 32, 64)        18496     \n",
      "_________________________________________________________________\n",
      "batch_normalization_2 (Batch (None, 32, 32, 64)        256       \n",
      "_________________________________________________________________\n",
      "activation_2 (Activation)    (None, 32, 32, 64)        0         \n",
      "_________________________________________________________________\n",
      "max_pooling2d_2 (MaxPooling2 (None, 16, 16, 64)        0         \n",
      "_________________________________________________________________\n",
      "conv2d_3 (Conv2D)            (None, 14, 14, 128)       73856     \n",
      "_________________________________________________________________\n",
      "batch_normalization_3 (Batch (None, 14, 14, 128)       512       \n",
      "_________________________________________________________________\n",
      "activation_3 (Activation)    (None, 14, 14, 128)       0         \n",
      "_________________________________________________________________\n",
      "max_pooling2d_3 (MaxPooling2 (None, 7, 7, 128)         0         \n",
      "_________________________________________________________________\n",
      "dropout_1 (Dropout)          (None, 7, 7, 128)         0         \n",
      "_________________________________________________________________\n",
      "flatten_1 (Flatten)          (None, 6272)              0         \n",
      "_________________________________________________________________\n",
      "dense_1 (Dense)              (None, 256)               1605888   \n",
      "_________________________________________________________________\n",
      "batch_normalization_4 (Batch (None, 256)               1024      \n",
      "_________________________________________________________________\n",
      "activation_4 (Activation)    (None, 256)               0         \n",
      "_________________________________________________________________\n",
      "dropout_2 (Dropout)          (None, 256)               0         \n",
      "_________________________________________________________________\n",
      "dense_2 (Dense)              (None, 3)                 771       \n",
      "_________________________________________________________________\n",
      "activation_5 (Activation)    (None, 3)                 0         \n",
      "=================================================================\n",
      "Total params: 1,701,251\n",
      "Trainable params: 1,700,291\n",
      "Non-trainable params: 960\n",
      "_________________________________________________________________\n"
     ]
    }
   ],
   "source": [
    "trained_model = load_3_class_cnn_model(\"best_model/custom_cnn_95.hdf5\")"
   ]
  },
  {
   "cell_type": "code",
   "execution_count": 17,
   "metadata": {},
   "outputs": [],
   "source": [
    "## Helper method to print a confusion matrix\n",
    "import itertools\n",
    "\n",
    "def plot_confusion_matrix(cm, classes,\n",
    "                          normalize=False,\n",
    "                          title='Confusion matrix',\n",
    "                          cmap=plt.cm.Blues):\n",
    "    \"\"\"\n",
    "    This function prints and plots the confusion matrix.\n",
    "    Normalization can be applied by setting `normalize=True`.\n",
    "    \"\"\"\n",
    "    if normalize:\n",
    "        cm = cm.astype('float') / cm.sum(axis=1)[:, np.newaxis]\n",
    "        print(\"Normalized confusion matrix\")\n",
    "    else:\n",
    "        print('Confusion matrix, without normalization')\n",
    "\n",
    "    print(cm)\n",
    "\n",
    "    plt.imshow(cm, interpolation='nearest', cmap=cmap)\n",
    "    plt.title(title)\n",
    "    plt.colorbar()\n",
    "    tick_marks = np.arange(len(classes))\n",
    "    plt.xticks(tick_marks, classes, rotation=45)\n",
    "    plt.yticks(tick_marks, classes)\n",
    "\n",
    "    fmt = '.2f' if normalize else 'd'\n",
    "    thresh = cm.max() / 2.\n",
    "    for i, j in itertools.product(range(cm.shape[0]), range(cm.shape[1])):\n",
    "        plt.text(j, i, format(cm[i, j], fmt),\n",
    "                 horizontalalignment=\"center\",\n",
    "                 color=\"white\" if cm[i, j] > thresh else \"black\")\n",
    "\n",
    "    plt.ylabel('True label')\n",
    "    plt.xlabel('Predicted label')\n",
    "    plt.tight_layout()\n",
    "    \n",
    "    \n",
    "import matplotlib\n",
    "matplotlib.rcParams['figure.figsize'] = [15, 15]\n",
    "\n",
    "IMAGES_PER_ROW = 5\n",
    "\n",
    "def plot_mispredicted_images(images, actual_values, predicted_values):\n",
    "    mis_predictions = actual_values ^ predicted_values\n",
    "    mis_prediction_indices = np.nonzero(mis_predictions)[0]\n",
    "    print(mis_prediction_indices)\n",
    "    \n",
    "    num_failed_images = len(mis_prediction_indices)\n",
    "    \n",
    "    if num_failed_images == 0:\n",
    "        print(\"All images predicted correctly.\")\n",
    "        return\n",
    "        \n",
    "    \n",
    "    if num_failed_images == 1:\n",
    "        print(\"{0} mispredicted as {1}\".format(actual_values[mis_prediction_indices[0]], predicted_values[mis_prediction_indices[0]]))\n",
    "        plt.imshow(images[mis_prediction_indices[0]], cmap='gray')\n",
    "        return\n",
    "    elif num_failed_images < IMAGES_PER_ROW:\n",
    "        num_images_per_row = 2\n",
    "    else:\n",
    "        num_images_per_row = IMAGES_PER_ROW\n",
    "        \n",
    "    num_rows = (num_failed_images // num_images_per_row) + int((num_failed_images % num_images_per_row) != 0)\n",
    "\n",
    "    print(\"Number of failed images: \" + str(num_failed_images))\n",
    "    print(\"Num rows: {0}. Num images/row: {1}\".format(num_rows, num_images_per_row))\n",
    "    #print(num_rows)\n",
    "    #print(num_images_per_row)\n",
    "\n",
    "\n",
    "    fig, axes = plt.subplots(num_rows, num_images_per_row)\n",
    "\n",
    "    current_image_idx = 0\n",
    "\n",
    "    for itr in range(num_rows):\n",
    "        #print(itr)\n",
    "        for jtr in range(num_images_per_row):\n",
    "            if current_image_idx == num_failed_images:\n",
    "                break\n",
    "            \n",
    "            print(\"{0}, {1}, {2}\".format(itr, jtr, current_image_idx))\n",
    "            axes[itr, jtr].imshow(images[mis_prediction_indices[current_image_idx]], cmap='gray')\n",
    "            axes[itr, jtr].set_title(\"{0} predicted as {1}\".format(actual_values[mis_prediction_indices[current_image_idx]], predicted_values[mis_prediction_indices[current_image_idx]]))\n",
    "            #print(current_image_idx)\n",
    "            current_image_idx += 1"
   ]
  },
  {
   "cell_type": "markdown",
   "metadata": {},
   "source": [
    "## Check the loaded trained model is behaving as expected"
   ]
  },
  {
   "cell_type": "code",
   "execution_count": 13,
   "metadata": {},
   "outputs": [
    {
     "name": "stdout",
     "output_type": "stream",
     "text": [
      "Confusion matrix, without normalization\n",
      "[[30  0  0]\n",
      " [ 0 30  0]\n",
      " [10  3  8]]\n",
      "0.8395061728395061\n"
     ]
    },
    {
     "data": {
      "image/png": "[encoded data removed]",
      "text/plain": [
       "<Figure size 720x720 with 2 Axes>"
      ]
     },
     "metadata": {
      "needs_background": "light"
     },
     "output_type": "display_data"
    }
   ],
   "source": [
    "from sklearn.metrics import confusion_matrix, accuracy_score\n",
    "plt.rcParams[\"figure.figsize\"] = (10,10)\n",
    "class_names = [\"black\", \"white\", \"empty\"]\n",
    "test_predictions = trained_model.predict(X_test, batch_size=batch_size)\n",
    "y_test_pred = [np.argmax(x) for x in test_predictions]\n",
    "cnf_matrix = confusion_matrix(y_test, y_test_pred)\n",
    "plot_confusion_matrix(cnf_matrix, classes=class_names, normalize=False,title='Normalized confusion matrix')\n",
    "print(accuracy_score(y_test, y_test_pred))"
   ]
  },
  {
   "cell_type": "code",
   "execution_count": 14,
   "metadata": {},
   "outputs": [
    {
     "name": "stdout",
     "output_type": "stream",
     "text": [
      "Train on 6486 samples, validate on 81 samples\n",
      "Epoch 1/150\n",
      "6486/6486 [==============================] - 2s 357us/step - loss: 0.5074 - acc: 0.8272 - val_loss: 0.1555 - val_acc: 0.9383\n",
      "\n",
      "Epoch 00001: val_acc improved from -inf to 0.93827, saving model to fine_tune/models\\3_class_cnn_fine_tuned.hdf5\n",
      "Epoch 2/150\n",
      "6486/6486 [==============================] - 2s 252us/step - loss: 0.3596 - acc: 0.8615 - val_loss: 0.1153 - val_acc: 0.9383\n",
      "\n",
      "Epoch 00002: val_acc did not improve from 0.93827\n",
      "Epoch 3/150\n",
      "6486/6486 [==============================] - 2s 253us/step - loss: 0.3011 - acc: 0.8790 - val_loss: 0.0998 - val_acc: 0.9630\n",
      "\n",
      "Epoch 00003: val_acc improved from 0.93827 to 0.96296, saving model to fine_tune/models\\3_class_cnn_fine_tuned.hdf5\n",
      "Epoch 4/150\n",
      "6486/6486 [==============================] - 2s 252us/step - loss: 0.2661 - acc: 0.8947 - val_loss: 0.0931 - val_acc: 0.9630\n",
      "\n",
      "Epoch 00004: val_acc did not improve from 0.96296\n",
      "Epoch 5/150\n",
      "6486/6486 [==============================] - 2s 253us/step - loss: 0.2249 - acc: 0.9087 - val_loss: 0.0828 - val_acc: 0.9753\n",
      "\n",
      "Epoch 00005: val_acc improved from 0.96296 to 0.97531, saving model to fine_tune/models\\3_class_cnn_fine_tuned.hdf5\n",
      "Epoch 6/150\n",
      "6486/6486 [==============================] - 2s 253us/step - loss: 0.2086 - acc: 0.9147 - val_loss: 0.0738 - val_acc: 1.0000\n",
      "\n",
      "Epoch 00006: val_acc improved from 0.97531 to 1.00000, saving model to fine_tune/models\\3_class_cnn_fine_tuned.hdf5\n",
      "Epoch 7/150\n",
      "6486/6486 [==============================] - 2s 253us/step - loss: 0.1892 - acc: 0.9237 - val_loss: 0.0703 - val_acc: 0.9877\n",
      "\n",
      "Epoch 00007: val_acc did not improve from 1.00000\n",
      "Epoch 8/150\n",
      "6486/6486 [==============================] - 2s 253us/step - loss: 0.1795 - acc: 0.9289 - val_loss: 0.0637 - val_acc: 0.9877\n",
      "\n",
      "Epoch 00008: val_acc did not improve from 1.00000\n",
      "Epoch 9/150\n",
      "6486/6486 [==============================] - 2s 253us/step - loss: 0.1552 - acc: 0.9394 - val_loss: 0.0594 - val_acc: 0.9877s - loss: 0.163\n",
      "\n",
      "Epoch 00009: val_acc did not improve from 1.00000\n",
      "Epoch 10/150\n",
      "6486/6486 [==============================] - 2s 252us/step - loss: 0.1513 - acc: 0.9453 - val_loss: 0.0555 - val_acc: 0.9877 loss: 0.1513 - acc: 0.945\n",
      "\n",
      "Epoch 00010: val_acc did not improve from 1.00000\n",
      "Epoch 11/150\n",
      "6486/6486 [==============================] - 2s 253us/step - loss: 0.1391 - acc: 0.9471 - val_loss: 0.0560 - val_acc: 0.9877\n",
      "\n",
      "Epoch 00011: val_acc did not improve from 1.00000\n",
      "Epoch 12/150\n",
      "6486/6486 [==============================] - 2s 252us/step - loss: 0.1348 - acc: 0.9507 - val_loss: 0.0496 - val_acc: 0.9877\n",
      "\n",
      "Epoch 00012: val_acc did not improve from 1.00000\n",
      "Epoch 13/150\n",
      "6486/6486 [==============================] - 2s 253us/step - loss: 0.1303 - acc: 0.9482 - val_loss: 0.0491 - val_acc: 0.9877\n",
      "\n",
      "Epoch 00013: val_acc did not improve from 1.00000\n",
      "Epoch 14/150\n",
      "6486/6486 [==============================] - 2s 252us/step - loss: 0.1221 - acc: 0.9551 - val_loss: 0.0474 - val_acc: 0.9877\n",
      "\n",
      "Epoch 00014: val_acc did not improve from 1.00000\n",
      "Epoch 15/150\n",
      "6486/6486 [==============================] - 2s 253us/step - loss: 0.1140 - acc: 0.9579 - val_loss: 0.0441 - val_acc: 0.9877\n",
      "\n",
      "Epoch 00015: val_acc did not improve from 1.00000\n",
      "Epoch 16/150\n",
      "6486/6486 [==============================] - 2s 253us/step - loss: 0.1072 - acc: 0.9593 - val_loss: 0.0445 - val_acc: 0.9877\n",
      "\n",
      "Epoch 00016: val_acc did not improve from 1.00000\n",
      "Epoch 17/150\n",
      "6486/6486 [==============================] - 2s 254us/step - loss: 0.1023 - acc: 0.9611 - val_loss: 0.0409 - val_acc: 0.9877\n",
      "\n",
      "Epoch 00017: val_acc did not improve from 1.00000\n",
      "Epoch 18/150\n",
      "6486/6486 [==============================] - 2s 253us/step - loss: 0.0970 - acc: 0.9650 - val_loss: 0.0414 - val_acc: 0.9877\n",
      "\n",
      "Epoch 00018: val_acc did not improve from 1.00000\n",
      "Epoch 19/150\n",
      "6486/6486 [==============================] - 2s 253us/step - loss: 0.0906 - acc: 0.9665 - val_loss: 0.0386 - val_acc: 0.9877\n",
      "\n",
      "Epoch 00019: val_acc did not improve from 1.00000\n",
      "Epoch 20/150\n",
      "6486/6486 [==============================] - 2s 253us/step - loss: 0.0841 - acc: 0.9698 - val_loss: 0.0376 - val_acc: 0.9877\n",
      "\n",
      "Epoch 00020: val_acc did not improve from 1.00000\n",
      "Epoch 21/150\n",
      "6486/6486 [==============================] - 2s 254us/step - loss: 0.0813 - acc: 0.9732 - val_loss: 0.0362 - val_acc: 0.9877\n",
      "\n",
      "Epoch 00021: val_acc did not improve from 1.00000\n",
      "Epoch 22/150\n",
      "6486/6486 [==============================] - 2s 253us/step - loss: 0.0768 - acc: 0.9733 - val_loss: 0.0349 - val_acc: 0.9877\n",
      "\n",
      "Epoch 00022: val_acc did not improve from 1.00000\n",
      "Epoch 23/150\n",
      "6486/6486 [==============================] - 2s 253us/step - loss: 0.0752 - acc: 0.9721 - val_loss: 0.0367 - val_acc: 0.9877\n",
      "\n",
      "Epoch 00023: val_acc did not improve from 1.00000\n",
      "Epoch 24/150\n",
      "6486/6486 [==============================] - 2s 253us/step - loss: 0.0709 - acc: 0.9759 - val_loss: 0.0314 - val_acc: 0.9877\n",
      "\n",
      "Epoch 00024: val_acc did not improve from 1.00000\n",
      "Epoch 25/150\n",
      "6486/6486 [==============================] - 2s 254us/step - loss: 0.0700 - acc: 0.9743 - val_loss: 0.0355 - val_acc: 0.9877\n",
      "\n",
      "Epoch 00025: val_acc did not improve from 1.00000\n",
      "Epoch 26/150\n",
      "6486/6486 [==============================] - 2s 253us/step - loss: 0.0669 - acc: 0.9766 - val_loss: 0.0406 - val_acc: 0.9877\n",
      "\n",
      "Epoch 00026: val_acc did not improve from 1.00000\n",
      "Epoch 00026: early stopping\n",
      "Test score: 0.040625171160992284\n",
      "Test accuracy: 0.9876543217235141\n"
     ]
    }
   ],
   "source": [
    "# checkpoint\n",
    "if not os.path.exists(model_folder_name):\n",
    "    os.makedirs(model_folder_name)\n",
    "\n",
    "# tensorboard logs\n",
    "if not os.path.exists(tensorboard_logs_folder_location):\n",
    "    os.makedirs(tensorboard_logs_folder_location)\n",
    "\n",
    "filepath = os.path.join(model_folder_name, \"3_class_cnn_fine_tuned.hdf5\")\n",
    "checkpoint = ModelCheckpoint(filepath, monitor='val_acc', verbose=1, save_best_only=True, mode='max')\n",
    "\n",
    "earlystop = EarlyStopping(monitor='val_acc', min_delta=0.0001, patience=20, verbose=1, mode='max')\n",
    "\n",
    "tensorboard = TensorBoard(log_dir=tensorboard_logs_folder_location, histogram_freq=0, write_graph=True, write_images=True)\n",
    "\n",
    "callbacks_list = [checkpoint, earlystop, tensorboard]\n",
    "\n",
    "adam = Adam(lr=0.00001, beta_1=0.9, beta_2=0.999, epsilon=None, decay=0.0, amsgrad=False)\n",
    "trained_model.compile(loss='sparse_categorical_crossentropy', optimizer=adam, metrics=['accuracy'])\n",
    "\n",
    "hist = trained_model.fit(X_train, y_train, shuffle=True, batch_size=batch_size,\n",
    "                 epochs=epochs, verbose=1,\n",
    "                 validation_data=(X_test, y_test), callbacks=callbacks_list)\n",
    "\n",
    "# Evaluating the model on the test data\n",
    "score, accuracy = trained_model.evaluate(X_test, y_test, verbose=0)\n",
    "print('Test score:', score)\n",
    "print('Test accuracy:', accuracy)"
   ]
  },
  {
   "cell_type": "markdown",
   "metadata": {},
   "source": [
    "# Load the fine-tuned model and perform predictions on the test set and visualize the mispredicted images"
   ]
  },
  {
   "cell_type": "code",
   "execution_count": 15,
   "metadata": {},
   "outputs": [
    {
     "name": "stdout",
     "output_type": "stream",
     "text": [
      "Confusion matrix, without normalization\n",
      "[[30  0  0]\n",
      " [ 0 30  0]\n",
      " [ 0  0 21]]\n",
      "1.0\n"
     ]
    },
    {
     "data": {
      "image/png": "[encoded data removed]",
      "text/plain": [
       "<Figure size 720x720 with 2 Axes>"
      ]
     },
     "metadata": {
      "needs_background": "light"
     },
     "output_type": "display_data"
    }
   ],
   "source": [
    "trained_model.load_weights(filepath)\n",
    "plt.rcParams[\"figure.figsize\"] = (10,10)\n",
    "class_names = [\"black\", \"white\", \"empty\"]\n",
    "test_predictions = trained_model.predict(X_test, batch_size=batch_size)\n",
    "y_test_pred = [np.argmax(x) for x in test_predictions]\n",
    "cnf_matrix = confusion_matrix(y_test, y_test_pred)\n",
    "plot_confusion_matrix(cnf_matrix, classes=class_names, normalize=False,title='Normalized confusion matrix')\n",
    "print(accuracy_score(y_test, y_test_pred))"
   ]
  },
  {
   "cell_type": "code",
   "execution_count": 18,
   "metadata": {},
   "outputs": [
    {
     "name": "stdout",
     "output_type": "stream",
     "text": [
      "[]\n",
      "All images predicted correctly.\n"
     ]
    }
   ],
   "source": [
    "# test_images = np.squeeze(X_test)\n",
    "plot_mispredicted_images(test_images, y_test, y_test_pred)"
   ]
  },
  {
   "cell_type": "code",
   "execution_count": null,
   "metadata": {},
   "outputs": [],
   "source": []
  }
 ],
 "metadata": {
  "kernelspec": {
   "display_name": "Python 3",
   "language": "python",
   "name": "python3"
  },
  "language_info": {
   "codemirror_mode": {
    "name": "ipython",
    "version": 3
   },
   "file_extension": ".py",
   "mimetype": "text/x-python",
   "name": "python",
   "nbconvert_exporter": "python",
   "pygments_lexer": "ipython3",
   "version": "3.6.7"
  }
 },
 "nbformat": 4,
 "nbformat_minor": 2
}
