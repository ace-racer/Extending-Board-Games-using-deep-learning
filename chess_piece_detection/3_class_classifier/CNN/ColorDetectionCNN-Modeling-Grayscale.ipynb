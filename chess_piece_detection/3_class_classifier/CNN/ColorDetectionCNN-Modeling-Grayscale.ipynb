{
 "cells": [
  {
   "cell_type": "code",
   "execution_count": 22,
   "metadata": {},
   "outputs": [],
   "source": [
    "import cv2\n",
    "import matplotlib.pyplot as plt\n",
    "import numpy as np\n",
    "import os\n",
    "import random\n",
    "import keras\n",
    "random.seed(42)\n",
    "\n",
    "%matplotlib inline"
   ]
  },
  {
   "cell_type": "code",
   "execution_count": 23,
   "metadata": {},
   "outputs": [],
   "source": [
    "IMAGE_SIZE = (70, 70)\n",
    "def process_image(image_location):\n",
    "    image = cv2.imread(image_location)\n",
    "    \n",
    "    if image.shape[0] != IMAGE_SIZE[0] or image.shape[1] != IMAGE_SIZE[1]:\n",
    "        # print(\"Resizing the image: {0}\".format(image_location))\n",
    "        resized_image = cv2.resize(image, IMAGE_SIZE, interpolation = cv2.INTER_AREA)\n",
    "    else:\n",
    "        resized_image = image\n",
    "    \n",
    "    gray = cv2.cvtColor(resized_image, cv2.COLOR_BGR2GRAY)\n",
    "    denoised = cv2.fastNlMeansDenoising(gray,None)\n",
    "    #hist_equalized = cv2.equalizeHist(denoised)\n",
    "       \n",
    "    return denoised"
   ]
  },
  {
   "cell_type": "code",
   "execution_count": 24,
   "metadata": {},
   "outputs": [
    {
     "data": {
      "text/plain": [
       "<matplotlib.image.AxesImage at 0x2187523e5f8>"
      ]
     },
     "execution_count": 24,
     "metadata": {},
     "output_type": "execute_result"
    },
    {
     "data": {
      "image/png": "[encoded data removed]",
      "text/plain": [
       "<Figure size 432x288 with 1 Axes>"
      ]
     },
     "metadata": {
      "needs_background": "light"
     },
     "output_type": "display_data"
    }
   ],
   "source": [
    "plt.imshow(cv2.imread(\"C:\\\\Users\\\\issuser\\\\Desktop\\\\ExtendingBoardGamesOnline\\\\data\\\\myboard_images\\\\b\\\\e_2.jpg\"), cmap='gray')"
   ]
  },
  {
   "cell_type": "code",
   "execution_count": 25,
   "metadata": {},
   "outputs": [
    {
     "data": {
      "text/plain": [
       "<matplotlib.image.AxesImage at 0x2187529af60>"
      ]
     },
     "execution_count": 25,
     "metadata": {},
     "output_type": "execute_result"
    },
    {
     "data": {
      "image/png": "[encoded data removed]",
      "text/plain": [
       "<Figure size 432x288 with 1 Axes>"
      ]
     },
     "metadata": {
      "needs_background": "light"
     },
     "output_type": "display_data"
    }
   ],
   "source": [
    "d = process_image(\"C:\\\\Users\\\\issuser\\\\Desktop\\\\ExtendingBoardGamesOnline\\\\data\\\\myboard_images\\\\b\\\\e_2.jpg\")\n",
    "plt.imshow(d, cmap='gray')"
   ]
  },
  {
   "cell_type": "code",
   "execution_count": null,
   "metadata": {},
   "outputs": [],
   "source": [
    "def get_features_labels(data_path):\n",
    "    X, y = [], []\n",
    "    features_with_labels = []\n",
    "    for fol in os.listdir(data_path):\n",
    "        fol_path = os.path.join(data_path, fol)\n",
    "        if os.path.isdir(fol_path):\n",
    "            for file in os.listdir(fol_path):\n",
    "                if \".jpg\" in file:\n",
    "                    label = -1\n",
    "\n",
    "                    if fol[0] == \"b\":\n",
    "                        label = 0\n",
    "                    elif fol[0] == \"w\":\n",
    "                        label = 1\n",
    "                    elif fol == \"empty\":\n",
    "                        label = 2\n",
    "\n",
    "                    if label != -1:\n",
    "                        complete_file_loc = os.path.join(fol_path, file)\n",
    "                        grayscale_image = process_image(complete_file_loc)\n",
    "                        grayscale_image = grayscale_image[..., np.newaxis]\n",
    "                        features_with_labels.append({\"feature\": grayscale_image, \"label\": label})\n",
    "            \n",
    "                    \n",
    "    random.shuffle(features_with_labels)\n",
    "    #print(X[0][0])\n",
    "    #print(X[0][1])\n",
    "    X = [x[\"feature\"] for x in features_with_labels]\n",
    "    y = [x[\"label\"] for x in features_with_labels]\n",
    "    \n",
    "    X = np.array(X)\n",
    "    X = X.astype('float32')\n",
    "    X /= 255\n",
    "\n",
    "    return np.array(X), np.array(y)"
   ]
  },
  {
   "cell_type": "code",
   "execution_count": null,
   "metadata": {},
   "outputs": [
    {
     "name": "stdout",
     "output_type": "stream",
     "text": [
      "(10360, 70, 70, 1)\n",
      "(10360,)\n",
      "(189, 70, 70, 1)\n",
      "(189,)\n"
     ]
    }
   ],
   "source": [
    "X_train, y_train = get_features_labels(\"C:\\\\Users\\\\issuser\\\\Desktop\\\\ExtendingBoardGamesOnline\\\\data\\\\Chess ID Public Data\\\\train\")\n",
    "X_test, y_test = get_features_labels(\"C:\\\\Users\\\\issuser\\\\Desktop\\\\ExtendingBoardGamesOnline\\\\data\\\\Chess ID Public Data\\\\test\")\n",
    "print(X_train.shape)\n",
    "print(y_train.shape)\n",
    "print(X_test.shape)\n",
    "print(y_test.shape)"
   ]
  },
  {
   "cell_type": "code",
   "execution_count": null,
   "metadata": {},
   "outputs": [],
   "source": [
    "from keras.models import Sequential, load_model, Model\n",
    "from keras.layers import Activation, Dropout, Flatten, Dense, Conv2D, MaxPooling2D, BatchNormalization\n",
    "from keras.callbacks import EarlyStopping, ModelCheckpoint, TensorBoard\n",
    "from keras import optimizers\n",
    "from sklearn.metrics import confusion_matrix\n",
    "from tensorflow import set_random_seed\n",
    "set_random_seed(42)"
   ]
  },
  {
   "cell_type": "code",
   "execution_count": null,
   "metadata": {},
   "outputs": [],
   "source": [
    "# batch size\n",
    "batch_size = 64\n",
    "\n",
    "# number of training epochs\n",
    "epochs = 150\n",
    "\n",
    "required_input_shape = (*IMAGE_SIZE, 1)"
   ]
  },
  {
   "cell_type": "code",
   "execution_count": null,
   "metadata": {},
   "outputs": [],
   "source": [
    "model_folder_name = \"models\"\n",
    "tensorboard_logs_folder_location = \"logs\""
   ]
  },
  {
   "cell_type": "code",
   "execution_count": null,
   "metadata": {},
   "outputs": [],
   "source": [
    "def train_3_class_cnn_model(X_train, Y_train, X_test, Y_test):\n",
    "    \"\"\"\"\"\"\n",
    "    model = Sequential()\n",
    "    model.add(Conv2D(32, (3, 3), padding='valid', input_shape=required_input_shape))\n",
    "    model.add(BatchNormalization())\n",
    "    model.add(Activation('relu'))\n",
    "    model.add(MaxPooling2D(pool_size=(2, 2)))\n",
    "    \n",
    "    model.add(Conv2D(64, (3, 3)))\n",
    "    model.add(BatchNormalization())\n",
    "    model.add(Activation('relu'))\n",
    "    model.add(MaxPooling2D(pool_size=(2, 2)))\n",
    "    \n",
    "    model.add(Dropout(0.5))\n",
    "\n",
    "    model.add(Flatten())\n",
    "    model.add(Dense(256))\n",
    "    model.add(BatchNormalization())\n",
    "    model.add(Activation('relu'))\n",
    "    model.add(Dropout(0.6))\n",
    "    \n",
    "    model.add(Dense(3))\n",
    "    model.add(Activation('softmax'))\n",
    "    model.summary()\n",
    "\n",
    "    # checkpoint\n",
    "    if not os.path.exists(model_folder_name):\n",
    "        os.makedirs(model_folder_name)\n",
    "    \n",
    "    # tensorboard logs\n",
    "    if not os.path.exists(tensorboard_logs_folder_location):\n",
    "        os.makedirs(tensorboard_logs_folder_location)\n",
    "    \n",
    "    filepath = os.path.join(model_folder_name, \"custom_cnn.hdf5\")\n",
    "    checkpoint = ModelCheckpoint(filepath, monitor='val_acc', verbose=1, save_best_only=True, mode='max')\n",
    "\n",
    "    earlystop = EarlyStopping(monitor='val_acc', min_delta=0.0001, patience=20, verbose=1, mode='max')\n",
    "    \n",
    "    tensorboard = TensorBoard(log_dir=tensorboard_logs_folder_location, histogram_freq=0, write_graph=True, write_images=True)\n",
    "    \n",
    "    callbacks_list = [checkpoint, earlystop, tensorboard]\n",
    "    \n",
    "    adam = optimizers.Adam(lr=0.00001, beta_1=0.9, beta_2=0.999, epsilon=None, decay=0.0, amsgrad=False)\n",
    "    model.compile(loss='sparse_categorical_crossentropy', optimizer=adam, metrics=['accuracy'])\n",
    "\n",
    "    hist = model.fit(X_train, Y_train, shuffle=True, batch_size=batch_size,\n",
    "                     epochs=epochs, verbose=1,\n",
    "                     validation_data=(X_test, Y_test), callbacks=callbacks_list)\n",
    "\n",
    "    # Evaluating the model on the test data\n",
    "    score, accuracy = model.evaluate(X_test, Y_test, verbose=0)\n",
    "    print('Test score:', score)\n",
    "    print('Test accuracy:', accuracy)\n",
    "    return hist, model"
   ]
  },
  {
   "cell_type": "code",
   "execution_count": null,
   "metadata": {
    "scrolled": false
   },
   "outputs": [
    {
     "name": "stdout",
     "output_type": "stream",
     "text": [
      "_________________________________________________________________\n",
      "Layer (type)                 Output Shape              Param #   \n",
      "=================================================================\n",
      "conv2d_1 (Conv2D)            (None, 68, 68, 32)        320       \n",
      "_________________________________________________________________\n",
      "batch_normalization_1 (Batch (None, 68, 68, 32)        128       \n",
      "_________________________________________________________________\n",
      "activation_1 (Activation)    (None, 68, 68, 32)        0         \n",
      "_________________________________________________________________\n",
      "max_pooling2d_1 (MaxPooling2 (None, 34, 34, 32)        0         \n",
      "_________________________________________________________________\n",
      "conv2d_2 (Conv2D)            (None, 32, 32, 64)        18496     \n",
      "_________________________________________________________________\n",
      "batch_normalization_2 (Batch (None, 32, 32, 64)        256       \n",
      "_________________________________________________________________\n",
      "activation_2 (Activation)    (None, 32, 32, 64)        0         \n",
      "_________________________________________________________________\n",
      "max_pooling2d_2 (MaxPooling2 (None, 16, 16, 64)        0         \n",
      "_________________________________________________________________\n",
      "dropout_1 (Dropout)          (None, 16, 16, 64)        0         \n",
      "_________________________________________________________________\n",
      "flatten_1 (Flatten)          (None, 16384)             0         \n",
      "_________________________________________________________________\n",
      "dense_1 (Dense)              (None, 256)               4194560   \n",
      "_________________________________________________________________\n",
      "batch_normalization_3 (Batch (None, 256)               1024      \n",
      "_________________________________________________________________\n",
      "activation_3 (Activation)    (None, 256)               0         \n",
      "_________________________________________________________________\n",
      "dropout_2 (Dropout)          (None, 256)               0         \n",
      "_________________________________________________________________\n",
      "dense_2 (Dense)              (None, 3)                 771       \n",
      "_________________________________________________________________\n",
      "activation_4 (Activation)    (None, 3)                 0         \n",
      "=================================================================\n",
      "Total params: 4,215,555\n",
      "Trainable params: 4,214,851\n",
      "Non-trainable params: 704\n",
      "_________________________________________________________________\n",
      "Train on 10360 samples, validate on 189 samples\n",
      "Epoch 1/150\n"
     ]
    }
   ],
   "source": [
    "hist, model = train_3_class_cnn_model(X_train, y_train, X_test, y_test)\n",
    "\n",
    "# summarize history for accuracy\n",
    "plt.plot(hist.history['acc'])\n",
    "plt.plot(hist.history['val_acc'])\n",
    "plt.title('model accuracy')\n",
    "plt.ylabel('accuracy')\n",
    "plt.xlabel('epoch')\n",
    "plt.legend(['train', 'test'], loc='upper left')\n",
    "plt.show()"
   ]
  },
  {
   "cell_type": "code",
   "execution_count": null,
   "metadata": {},
   "outputs": [],
   "source": [
    "## Helper method to print a confusion matrix\n",
    "import itertools\n",
    "\n",
    "def plot_confusion_matrix(cm, classes,\n",
    "                          normalize=False,\n",
    "                          title='Confusion matrix',\n",
    "                          cmap=plt.cm.Blues):\n",
    "    \"\"\"\n",
    "    This function prints and plots the confusion matrix.\n",
    "    Normalization can be applied by setting `normalize=True`.\n",
    "    \"\"\"\n",
    "    if normalize:\n",
    "        cm = cm.astype('float') / cm.sum(axis=1)[:, np.newaxis]\n",
    "        print(\"Normalized confusion matrix\")\n",
    "    else:\n",
    "        print('Confusion matrix, without normalization')\n",
    "\n",
    "    print(cm)\n",
    "\n",
    "    plt.imshow(cm, interpolation='nearest', cmap=cmap)\n",
    "    plt.title(title)\n",
    "    plt.colorbar()\n",
    "    tick_marks = np.arange(len(classes))\n",
    "    plt.xticks(tick_marks, classes, rotation=45)\n",
    "    plt.yticks(tick_marks, classes)\n",
    "\n",
    "    fmt = '.2f' if normalize else 'd'\n",
    "    thresh = cm.max() / 2.\n",
    "    for i, j in itertools.product(range(cm.shape[0]), range(cm.shape[1])):\n",
    "        plt.text(j, i, format(cm[i, j], fmt),\n",
    "                 horizontalalignment=\"center\",\n",
    "                 color=\"white\" if cm[i, j] > thresh else \"black\")\n",
    "\n",
    "    plt.ylabel('True label')\n",
    "    plt.xlabel('Predicted label')\n",
    "    plt.tight_layout()"
   ]
  },
  {
   "cell_type": "code",
   "execution_count": null,
   "metadata": {},
   "outputs": [],
   "source": [
    "plt.rcParams[\"figure.figsize\"] = (10,10)\n",
    "class_names = [\"black\", \"white\", \"empty\"]\n",
    "test_predictions = model.predict(X_test, batch_size=batch_size)\n",
    "y_test_pred = [np.argmax(x) for x in test_predictions]\n",
    "cnf_matrix = confusion_matrix(y_test, y_test_pred)\n",
    "plot_confusion_matrix(cnf_matrix, classes=class_names, normalize=False,title='Normalized confusion matrix')"
   ]
  },
  {
   "cell_type": "code",
   "execution_count": null,
   "metadata": {},
   "outputs": [],
   "source": [
    "import matplotlib\n",
    "matplotlib.rcParams['figure.figsize'] = [15, 15]\n",
    "\n",
    "IMAGES_PER_ROW = 5\n",
    "\n",
    "def plot_mispredicted_images(images, actual_values, predicted_values):\n",
    "    mis_predictions = actual_values ^ predicted_values\n",
    "    mis_prediction_indices = np.nonzero(mis_predictions)[0]\n",
    "    \n",
    "    num_failed_images = len(mis_prediction_indices)\n",
    "    num_images_per_row = IMAGES_PER_ROW\n",
    "    num_rows = (num_failed_images // num_images_per_row) + int((num_failed_images % num_images_per_row) != 0)\n",
    "\n",
    "    print(num_failed_images)\n",
    "    print(num_rows)\n",
    "    print(num_images_per_row)\n",
    "\n",
    "\n",
    "    fig, axes = plt.subplots(num_rows, num_images_per_row)\n",
    "\n",
    "    current_image_idx = 0\n",
    "\n",
    "    for itr in range(num_rows):\n",
    "        #print(itr)\n",
    "        for jtr in range(num_images_per_row):\n",
    "            if current_image_idx == num_failed_images:\n",
    "                break\n",
    "\n",
    "            axes[itr, jtr].imshow(images[mis_prediction_indices[current_image_idx]], cmap='gray')\n",
    "            axes[itr, jtr].set_title(\"{0} predicted as {1}\".format(actual_values[mis_prediction_indices[current_image_idx]], predicted_values[mis_prediction_indices[current_image_idx]]))\n",
    "            #print(current_image_idx)\n",
    "            current_image_idx += 1"
   ]
  },
  {
   "cell_type": "code",
   "execution_count": null,
   "metadata": {},
   "outputs": [],
   "source": [
    "test_images = np.squeeze(X_test)\n",
    "print(test_images.shape)\n",
    "plot_mispredicted_images(test_images, y_test, y_test_pred)"
   ]
  },
  {
   "cell_type": "markdown",
   "metadata": {},
   "source": [
    "## Make predictions on actual board images"
   ]
  },
  {
   "cell_type": "code",
   "execution_count": null,
   "metadata": {},
   "outputs": [],
   "source": [
    "X_test1, y_test1 = get_features_labels(\"C:\\\\Users\\\\issuser\\\\Desktop\\\\ExtendingBoardGamesOnline\\\\data\\\\myboard_images\")\n",
    "test_predictions1 = model.predict(X_test1, batch_size=batch_size)\n",
    "y_test_pred1 = [np.argmax(x) for x in test_predictions1]\n",
    "cnf_matrix1 = confusion_matrix(y_test1, y_test_pred1)\n",
    "plot_confusion_matrix(cnf_matrix1, classes=class_names, normalize=False,title='confusion matrix')"
   ]
  },
  {
   "cell_type": "code",
   "execution_count": null,
   "metadata": {},
   "outputs": [],
   "source": []
  }
 ],
 "metadata": {
  "kernelspec": {
   "display_name": "Python 3",
   "language": "python",
   "name": "python3"
  },
  "language_info": {
   "codemirror_mode": {
    "name": "ipython",
    "version": 3
   },
   "file_extension": ".py",
   "mimetype": "text/x-python",
   "name": "python",
   "nbconvert_exporter": "python",
   "pygments_lexer": "ipython3",
   "version": "3.6.7"
  }
 },
 "nbformat": 4,
 "nbformat_minor": 2
}
