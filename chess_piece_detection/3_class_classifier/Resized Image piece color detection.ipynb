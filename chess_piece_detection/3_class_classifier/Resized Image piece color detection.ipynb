{
 "cells": [
  {
   "cell_type": "code",
   "execution_count": 1,
   "metadata": {
    "collapsed": true
   },
   "outputs": [],
   "source": [
    "import cv2\n",
    "import matplotlib.pyplot as plt\n",
    "import numpy as np\n",
    "import os\n",
    "import random\n",
    "random.seed(42)\n",
    "\n",
    "%matplotlib inline"
   ]
  },
  {
   "cell_type": "code",
   "execution_count": 3,
   "metadata": {
    "collapsed": true
   },
   "outputs": [],
   "source": [
    "def get_image_intensity_histogram(file_location):\n",
    "    image = cv2.imread(file_location)\n",
    "    resized_image = cv2.resize(image, (70, 70), interpolation = cv2.INTER_AREA)\n",
    "    gray = cv2.cvtColor(resized_image, cv2.COLOR_BGR2GRAY)\n",
    "    \n",
    "    # perform histogram equalization to enhance the contrast\n",
    "    gray = cv2.equalizeHist(gray)\n",
    "    \n",
    "    hist = cv2.calcHist([gray],[0],None,[256],[0,256])\n",
    "    return np.squeeze(hist)\n",
    "    "
   ]
  },
  {
   "cell_type": "code",
   "execution_count": 4,
   "metadata": {
    "collapsed": true
   },
   "outputs": [],
   "source": [
    "def get_features_labels(data_path):\n",
    "    X, y = [], []\n",
    "    features_with_labels = []\n",
    "    for fol in os.listdir(data_path):\n",
    "        fol_path = os.path.join(data_path, fol)\n",
    "        if os.path.isdir(fol_path):\n",
    "            for file in os.listdir(fol_path):\n",
    "                if \".jpg\" in file:\n",
    "                    label = -1\n",
    "\n",
    "                    if fol[0] == \"b\":\n",
    "                        label = 0\n",
    "                    elif fol[0] == \"w\":\n",
    "                        label = 1\n",
    "                    elif fol == \"empty\":\n",
    "                        label = 2\n",
    "\n",
    "                    if label != -1:\n",
    "                        complete_file_loc = os.path.join(fol_path, file)\n",
    "                        features_with_labels.append({\"feature\": get_image_intensity_histogram(complete_file_loc), \"label\": label})\n",
    "            \n",
    "                    \n",
    "    random.shuffle(features_with_labels)\n",
    "    #print(X[0][0])\n",
    "    #print(X[0][1])\n",
    "    X = [x[\"feature\"] for x in features_with_labels]\n",
    "    y = [x[\"label\"] for x in features_with_labels]\n",
    "\n",
    "    return np.array(X), np.array(y)"
   ]
  },
  {
   "cell_type": "code",
   "execution_count": 5,
   "metadata": {},
   "outputs": [
    {
     "name": "stdout",
     "output_type": "stream",
     "text": [
      "(10360, 256)\n",
      "(10360,)\n",
      "(189, 256)\n",
      "(189,)\n"
     ]
    }
   ],
   "source": [
    "X_train, y_train = get_features_labels(\"H:\\\\AR-ExtendingOnlineGames\\\\data\\\\chess_pieces_data\\\\Chess ID Public Data\\\\train\")\n",
    "X_test, y_test = get_features_labels(\"H:\\\\AR-ExtendingOnlineGames\\\\data\\\\chess_pieces_data\\\\Chess ID Public Data\\\\test\")\n",
    "print(X_train.shape)\n",
    "print(y_train.shape)\n",
    "print(X_test.shape)\n",
    "print(y_test.shape)"
   ]
  },
  {
   "cell_type": "code",
   "execution_count": 6,
   "metadata": {
    "collapsed": true
   },
   "outputs": [],
   "source": [
    "import itertools\n",
    "from sklearn.metrics import confusion_matrix, precision_recall_fscore_support, accuracy_score\n",
    "\n",
    "def plot_confusion_matrix(cm, classes,\n",
    "                          normalize=False,\n",
    "                          title='Confusion matrix',\n",
    "                          cmap=plt.cm.Blues):\n",
    "    \"\"\"\n",
    "    This function prints and plots the confusion matrix.\n",
    "    Normalization can be applied by setting `normalize=True`.\n",
    "    \"\"\"\n",
    "    if normalize:\n",
    "        cm = cm.astype('float') / cm.sum(axis=1)[:, np.newaxis]\n",
    "        print(\"Normalized confusion matrix\")\n",
    "    else:\n",
    "        print('Confusion matrix, without normalization')\n",
    "\n",
    "    print(cm)\n",
    "\n",
    "    plt.imshow(cm, interpolation='nearest', cmap=cmap)\n",
    "    plt.title(title)\n",
    "    plt.colorbar()\n",
    "    tick_marks = np.arange(len(classes))\n",
    "    plt.xticks(tick_marks, classes, rotation=45)\n",
    "    plt.yticks(tick_marks, classes)\n",
    "\n",
    "    fmt = '.2f' if normalize else 'd'\n",
    "    thresh = cm.max() / 2.\n",
    "    for i, j in itertools.product(range(cm.shape[0]), range(cm.shape[1])):\n",
    "        plt.text(j, i, format(cm[i, j], fmt),\n",
    "                 horizontalalignment=\"center\",\n",
    "                 color=\"white\" if cm[i, j] > thresh else \"black\")\n",
    "\n",
    "    plt.ylabel('True label')\n",
    "    plt.xlabel('Predicted label')\n",
    "    plt.tight_layout()\n",
    "    \n",
    "def generate_performance_results(actual, predicted):\n",
    "    # Compute confusion matrix\n",
    "    cnf_matrix = confusion_matrix(actual, predicted)\n",
    "    np.set_printoptions(precision=2)\n",
    "\n",
    "    # Plot non-normalized confusion matrix\n",
    "    plt.figure()\n",
    "    plot_confusion_matrix(cnf_matrix, classes=[\"black\", \"white\", \"empty\"], title='Confusion matrix, without normalization')\n",
    "    \n",
    "    print(\"\\nPrecision, recall, F score and support (per class): \")\n",
    "    print(precision_recall_fscore_support(actual, predicted))\n",
    "    print(\"\\nAccuracy\")\n",
    "    print(accuracy_score(actual, predicted))"
   ]
  },
  {
   "cell_type": "markdown",
   "metadata": {},
   "source": [
    "## Train the XGB model on the chess ID images and validate on the validation set"
   ]
  },
  {
   "cell_type": "code",
   "execution_count": 7,
   "metadata": {},
   "outputs": [
    {
     "name": "stderr",
     "output_type": "stream",
     "text": [
      "G:\\anaconda\\lib\\site-packages\\sklearn\\preprocessing\\label.py:151: DeprecationWarning: The truth value of an empty array is ambiguous. Returning False, but in future this will result in an error. Use `array.size > 0` to check that an array is not empty.\n",
      "  if diff:\n",
      "G:\\anaconda\\lib\\site-packages\\sklearn\\preprocessing\\label.py:151: DeprecationWarning: The truth value of an empty array is ambiguous. Returning False, but in future this will result in an error. Use `array.size > 0` to check that an array is not empty.\n",
      "  if diff:\n"
     ]
    },
    {
     "name": "stdout",
     "output_type": "stream",
     "text": [
      "(189,)\n",
      "Confusion matrix, without normalization\n",
      "[[89  0  1]\n",
      " [ 0 95  0]\n",
      " [ 0  0  4]]\n",
      "\n",
      "Precision, recall, F score and support (per class): \n",
      "(array([1. , 1. , 0.8]), array([0.99, 1.  , 1.  ]), array([0.99, 1.  , 0.89]), array([90, 95,  4], dtype=int64))\n",
      "\n",
      "Accuracy\n",
      "0.9947089947089947\n"
     ]
    },
    {
     "data": {
      "image/png": "[encoded data removed]",
      "text/plain": [
       "<matplotlib.figure.Figure at 0x2252205bc50>"
      ]
     },
     "metadata": {},
     "output_type": "display_data"
    }
   ],
   "source": [
    "import xgboost as xgb\n",
    "\n",
    "gbm = xgb.XGBClassifier(max_depth=5, n_estimators=1000, learning_rate=0.05, objective= 'multi:softmax', num_class=3).fit(X_train, y_train)\n",
    "y_test_prections = gbm.predict(X_test)\n",
    "y_train_predictions = gbm.predict(X_train)\n",
    "print(y_test_prections.shape)\n",
    "\n",
    "generate_performance_results(y_test, y_test_prections)"
   ]
  },
  {
   "cell_type": "markdown",
   "metadata": {},
   "source": [
    "## Check predictions on the images taken on my chess board"
   ]
  },
  {
   "cell_type": "code",
   "execution_count": 10,
   "metadata": {},
   "outputs": [
    {
     "name": "stdout",
     "output_type": "stream",
     "text": [
      "(64, 256)\n",
      "(64,)\n",
      "(64,)\n",
      "Confusion matrix, without normalization\n",
      "[[ 2  3  2]\n",
      " [ 1  8  0]\n",
      " [11  5 32]]\n",
      "\n",
      "Precision, recall, F score and support (per class): \n",
      "(array([0.14, 0.5 , 0.94]), array([0.29, 0.89, 0.67]), array([0.19, 0.64, 0.78]), array([ 7,  9, 48], dtype=int64))\n",
      "\n",
      "Accuracy\n",
      "0.65625\n"
     ]
    },
    {
     "name": "stderr",
     "output_type": "stream",
     "text": [
      "G:\\anaconda\\lib\\site-packages\\sklearn\\preprocessing\\label.py:151: DeprecationWarning: The truth value of an empty array is ambiguous. Returning False, but in future this will result in an error. Use `array.size > 0` to check that an array is not empty.\n",
      "  if diff:\n"
     ]
    },
    {
     "data": {
      "image/png": "[encoded data removed]",
      "text/plain": [
       "<matplotlib.figure.Figure at 0x225245a7c88>"
      ]
     },
     "metadata": {},
     "output_type": "display_data"
    }
   ],
   "source": [
    "X_new, y_new = get_features_labels(\"H:\\\\AR-ExtendingOnlineGames\\\\data\\\\myboard_images\")\n",
    "print(X_new.shape)\n",
    "print(y_new.shape)\n",
    "\n",
    "y_new_predictions = gbm.predict(X_new)\n",
    "print(y_new_predictions.shape)\n",
    "\n",
    "generate_performance_results(y_new, y_new_predictions)"
   ]
  },
  {
   "cell_type": "code",
   "execution_count": null,
   "metadata": {
    "collapsed": true
   },
   "outputs": [],
   "source": []
  }
 ],
 "metadata": {
  "kernelspec": {
   "display_name": "Python 3",
   "language": "python",
   "name": "python3"
  },
  "language_info": {
   "codemirror_mode": {
    "name": "ipython",
    "version": 3
   },
   "file_extension": ".py",
   "mimetype": "text/x-python",
   "name": "python",
   "nbconvert_exporter": "python",
   "pygments_lexer": "ipython3",
   "version": "3.6.3"
  }
 },
 "nbformat": 4,
 "nbformat_minor": 2
}
